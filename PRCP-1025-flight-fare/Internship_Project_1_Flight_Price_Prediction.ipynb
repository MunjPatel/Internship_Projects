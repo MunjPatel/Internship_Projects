{
 "cells": [
  {
   "cell_type": "markdown",
   "id": "c2b04f5b",
   "metadata": {},
   "source": [
    "# Project-1 : Flight Price Prediction"
   ]
  },
  {
   "cell_type": "markdown",
   "id": "7c7218fc",
   "metadata": {},
   "source": [
    "## Aim : Here we aim is to find the model which provides highest accuracy in determining the price of a flight ticket with minimum coefficient of variation."
   ]
  },
  {
   "cell_type": "code",
   "execution_count": 1,
   "id": "a416caa0",
   "metadata": {},
   "outputs": [],
   "source": [
    "import pandas as pd\n",
    "import numpy as np\n",
    "import matplotlib.pyplot as plt\n",
    "import seaborn as sns\n",
    "import warnings\n",
    "import matplotlib.colors as pltc\n",
    "from scipy.stats import boxcox, skew, norm, kurtosis"
   ]
  },
  {
   "cell_type": "code",
   "execution_count": 2,
   "id": "347219cb",
   "metadata": {},
   "outputs": [],
   "source": [
    "plt.rcParams['figure.figsize'] = 10,10\n",
    "warnings.filterwarnings('ignore')\n",
    "sns.set_style(style = 'darkgrid')"
   ]
  },
  {
   "cell_type": "code",
   "execution_count": 3,
   "id": "29064768",
   "metadata": {
    "scrolled": false
   },
   "outputs": [
    {
     "data": {
      "text/html": [
       "<div>\n",
       "<style scoped>\n",
       "    .dataframe tbody tr th:only-of-type {\n",
       "        vertical-align: middle;\n",
       "    }\n",
       "\n",
       "    .dataframe tbody tr th {\n",
       "        vertical-align: top;\n",
       "    }\n",
       "\n",
       "    .dataframe thead th {\n",
       "        text-align: right;\n",
       "    }\n",
       "</style>\n",
       "<table border=\"1\" class=\"dataframe\">\n",
       "  <thead>\n",
       "    <tr style=\"text-align: right;\">\n",
       "      <th></th>\n",
       "      <th>Airline</th>\n",
       "      <th>Date_of_Journey</th>\n",
       "      <th>Source</th>\n",
       "      <th>Destination</th>\n",
       "      <th>Route</th>\n",
       "      <th>Dep_Time</th>\n",
       "      <th>Arrival_Time</th>\n",
       "      <th>Duration</th>\n",
       "      <th>Total_Stops</th>\n",
       "      <th>Additional_Info</th>\n",
       "      <th>Price</th>\n",
       "    </tr>\n",
       "  </thead>\n",
       "  <tbody>\n",
       "    <tr>\n",
       "      <th>0</th>\n",
       "      <td>IndiGo</td>\n",
       "      <td>24/03/2019</td>\n",
       "      <td>Banglore</td>\n",
       "      <td>New Delhi</td>\n",
       "      <td>BLR → DEL</td>\n",
       "      <td>22:20</td>\n",
       "      <td>01:10 22 Mar</td>\n",
       "      <td>2h 50m</td>\n",
       "      <td>non-stop</td>\n",
       "      <td>No info</td>\n",
       "      <td>3897</td>\n",
       "    </tr>\n",
       "    <tr>\n",
       "      <th>1</th>\n",
       "      <td>Air India</td>\n",
       "      <td>1/05/2019</td>\n",
       "      <td>Kolkata</td>\n",
       "      <td>Banglore</td>\n",
       "      <td>CCU → IXR → BBI → BLR</td>\n",
       "      <td>05:50</td>\n",
       "      <td>13:15</td>\n",
       "      <td>7h 25m</td>\n",
       "      <td>2 stops</td>\n",
       "      <td>No info</td>\n",
       "      <td>7662</td>\n",
       "    </tr>\n",
       "    <tr>\n",
       "      <th>2</th>\n",
       "      <td>Jet Airways</td>\n",
       "      <td>9/06/2019</td>\n",
       "      <td>Delhi</td>\n",
       "      <td>Cochin</td>\n",
       "      <td>DEL → LKO → BOM → COK</td>\n",
       "      <td>09:25</td>\n",
       "      <td>04:25 10 Jun</td>\n",
       "      <td>19h</td>\n",
       "      <td>2 stops</td>\n",
       "      <td>No info</td>\n",
       "      <td>13882</td>\n",
       "    </tr>\n",
       "    <tr>\n",
       "      <th>3</th>\n",
       "      <td>IndiGo</td>\n",
       "      <td>12/05/2019</td>\n",
       "      <td>Kolkata</td>\n",
       "      <td>Banglore</td>\n",
       "      <td>CCU → NAG → BLR</td>\n",
       "      <td>18:05</td>\n",
       "      <td>23:30</td>\n",
       "      <td>5h 25m</td>\n",
       "      <td>1 stop</td>\n",
       "      <td>No info</td>\n",
       "      <td>6218</td>\n",
       "    </tr>\n",
       "    <tr>\n",
       "      <th>4</th>\n",
       "      <td>IndiGo</td>\n",
       "      <td>01/03/2019</td>\n",
       "      <td>Banglore</td>\n",
       "      <td>New Delhi</td>\n",
       "      <td>BLR → NAG → DEL</td>\n",
       "      <td>16:50</td>\n",
       "      <td>21:35</td>\n",
       "      <td>4h 45m</td>\n",
       "      <td>1 stop</td>\n",
       "      <td>No info</td>\n",
       "      <td>13302</td>\n",
       "    </tr>\n",
       "  </tbody>\n",
       "</table>\n",
       "</div>"
      ],
      "text/plain": [
       "       Airline Date_of_Journey    Source Destination                  Route  \\\n",
       "0       IndiGo      24/03/2019  Banglore   New Delhi              BLR → DEL   \n",
       "1    Air India       1/05/2019   Kolkata    Banglore  CCU → IXR → BBI → BLR   \n",
       "2  Jet Airways       9/06/2019     Delhi      Cochin  DEL → LKO → BOM → COK   \n",
       "3       IndiGo      12/05/2019   Kolkata    Banglore        CCU → NAG → BLR   \n",
       "4       IndiGo      01/03/2019  Banglore   New Delhi        BLR → NAG → DEL   \n",
       "\n",
       "  Dep_Time  Arrival_Time Duration Total_Stops Additional_Info  Price  \n",
       "0    22:20  01:10 22 Mar   2h 50m    non-stop         No info   3897  \n",
       "1    05:50         13:15   7h 25m     2 stops         No info   7662  \n",
       "2    09:25  04:25 10 Jun      19h     2 stops         No info  13882  \n",
       "3    18:05         23:30   5h 25m      1 stop         No info   6218  \n",
       "4    16:50         21:35   4h 45m      1 stop         No info  13302  "
      ]
     },
     "execution_count": 3,
     "metadata": {},
     "output_type": "execute_result"
    }
   ],
   "source": [
    "na_l = ['NaN','nan','NAN','--','?','-',' ']\n",
    "\n",
    "df = pd.read_excel(r\"C:\\Users\\Munj Patel\\Desktop\\INTERNSHIP\\DATA_MITES\\PROJECT_1\\PRCP-1025-flight-fare\\Flight_Fare.xlsx\", na_values=na_l)\n",
    "df.head()"
   ]
  },
  {
   "cell_type": "code",
   "execution_count": 4,
   "id": "e6a083b5",
   "metadata": {},
   "outputs": [
    {
     "data": {
      "text/plain": [
       "(10683, 11)"
      ]
     },
     "execution_count": 4,
     "metadata": {},
     "output_type": "execute_result"
    }
   ],
   "source": [
    "df.shape"
   ]
  },
  {
   "cell_type": "code",
   "execution_count": 5,
   "id": "890349aa",
   "metadata": {},
   "outputs": [
    {
     "name": "stdout",
     "output_type": "stream",
     "text": [
      "<class 'pandas.core.frame.DataFrame'>\n",
      "RangeIndex: 10683 entries, 0 to 10682\n",
      "Data columns (total 11 columns):\n",
      " #   Column           Non-Null Count  Dtype \n",
      "---  ------           --------------  ----- \n",
      " 0   Airline          10683 non-null  object\n",
      " 1   Date_of_Journey  10683 non-null  object\n",
      " 2   Source           10683 non-null  object\n",
      " 3   Destination      10683 non-null  object\n",
      " 4   Route            10682 non-null  object\n",
      " 5   Dep_Time         10683 non-null  object\n",
      " 6   Arrival_Time     10683 non-null  object\n",
      " 7   Duration         10683 non-null  object\n",
      " 8   Total_Stops      10682 non-null  object\n",
      " 9   Additional_Info  10683 non-null  object\n",
      " 10  Price            10683 non-null  int64 \n",
      "dtypes: int64(1), object(10)\n",
      "memory usage: 918.2+ KB\n"
     ]
    }
   ],
   "source": [
    "df.info()"
   ]
  },
  {
   "cell_type": "code",
   "execution_count": 6,
   "id": "148e2ff3",
   "metadata": {
    "scrolled": false
   },
   "outputs": [
    {
     "data": {
      "text/plain": [
       "Airline            object\n",
       "Date_of_Journey    object\n",
       "Source             object\n",
       "Destination        object\n",
       "Route              object\n",
       "Dep_Time           object\n",
       "Arrival_Time       object\n",
       "Duration           object\n",
       "Total_Stops        object\n",
       "Additional_Info    object\n",
       "Price               int64\n",
       "dtype: object"
      ]
     },
     "execution_count": 6,
     "metadata": {},
     "output_type": "execute_result"
    }
   ],
   "source": [
    "df.dtypes"
   ]
  },
  {
   "cell_type": "code",
   "execution_count": 7,
   "id": "d305d60b",
   "metadata": {},
   "outputs": [
    {
     "data": {
      "text/html": [
       "<div>\n",
       "<style scoped>\n",
       "    .dataframe tbody tr th:only-of-type {\n",
       "        vertical-align: middle;\n",
       "    }\n",
       "\n",
       "    .dataframe tbody tr th {\n",
       "        vertical-align: top;\n",
       "    }\n",
       "\n",
       "    .dataframe thead th {\n",
       "        text-align: right;\n",
       "    }\n",
       "</style>\n",
       "<table border=\"1\" class=\"dataframe\">\n",
       "  <thead>\n",
       "    <tr style=\"text-align: right;\">\n",
       "      <th></th>\n",
       "      <th>Price</th>\n",
       "    </tr>\n",
       "  </thead>\n",
       "  <tbody>\n",
       "    <tr>\n",
       "      <th>count</th>\n",
       "      <td>10683.000000</td>\n",
       "    </tr>\n",
       "    <tr>\n",
       "      <th>mean</th>\n",
       "      <td>9087.064121</td>\n",
       "    </tr>\n",
       "    <tr>\n",
       "      <th>std</th>\n",
       "      <td>4611.359167</td>\n",
       "    </tr>\n",
       "    <tr>\n",
       "      <th>min</th>\n",
       "      <td>1759.000000</td>\n",
       "    </tr>\n",
       "    <tr>\n",
       "      <th>25%</th>\n",
       "      <td>5277.000000</td>\n",
       "    </tr>\n",
       "    <tr>\n",
       "      <th>50%</th>\n",
       "      <td>8372.000000</td>\n",
       "    </tr>\n",
       "    <tr>\n",
       "      <th>75%</th>\n",
       "      <td>12373.000000</td>\n",
       "    </tr>\n",
       "    <tr>\n",
       "      <th>max</th>\n",
       "      <td>79512.000000</td>\n",
       "    </tr>\n",
       "  </tbody>\n",
       "</table>\n",
       "</div>"
      ],
      "text/plain": [
       "              Price\n",
       "count  10683.000000\n",
       "mean    9087.064121\n",
       "std     4611.359167\n",
       "min     1759.000000\n",
       "25%     5277.000000\n",
       "50%     8372.000000\n",
       "75%    12373.000000\n",
       "max    79512.000000"
      ]
     },
     "execution_count": 7,
     "metadata": {},
     "output_type": "execute_result"
    }
   ],
   "source": [
    "df.describe()"
   ]
  },
  {
   "cell_type": "code",
   "execution_count": 8,
   "id": "adedc2ac",
   "metadata": {
    "scrolled": false
   },
   "outputs": [
    {
     "data": {
      "text/html": [
       "<div>\n",
       "<style scoped>\n",
       "    .dataframe tbody tr th:only-of-type {\n",
       "        vertical-align: middle;\n",
       "    }\n",
       "\n",
       "    .dataframe tbody tr th {\n",
       "        vertical-align: top;\n",
       "    }\n",
       "\n",
       "    .dataframe thead th {\n",
       "        text-align: right;\n",
       "    }\n",
       "</style>\n",
       "<table border=\"1\" class=\"dataframe\">\n",
       "  <thead>\n",
       "    <tr style=\"text-align: right;\">\n",
       "      <th></th>\n",
       "      <th>Airline</th>\n",
       "      <th>Date_of_Journey</th>\n",
       "      <th>Source</th>\n",
       "      <th>Destination</th>\n",
       "      <th>Route</th>\n",
       "      <th>Dep_Time</th>\n",
       "      <th>Arrival_Time</th>\n",
       "      <th>Duration</th>\n",
       "      <th>Total_Stops</th>\n",
       "      <th>Additional_Info</th>\n",
       "    </tr>\n",
       "  </thead>\n",
       "  <tbody>\n",
       "    <tr>\n",
       "      <th>count</th>\n",
       "      <td>10683</td>\n",
       "      <td>10683</td>\n",
       "      <td>10683</td>\n",
       "      <td>10683</td>\n",
       "      <td>10682</td>\n",
       "      <td>10683</td>\n",
       "      <td>10683</td>\n",
       "      <td>10683</td>\n",
       "      <td>10682</td>\n",
       "      <td>10683</td>\n",
       "    </tr>\n",
       "    <tr>\n",
       "      <th>unique</th>\n",
       "      <td>12</td>\n",
       "      <td>44</td>\n",
       "      <td>5</td>\n",
       "      <td>6</td>\n",
       "      <td>128</td>\n",
       "      <td>222</td>\n",
       "      <td>1343</td>\n",
       "      <td>368</td>\n",
       "      <td>5</td>\n",
       "      <td>10</td>\n",
       "    </tr>\n",
       "    <tr>\n",
       "      <th>top</th>\n",
       "      <td>Jet Airways</td>\n",
       "      <td>18/05/2019</td>\n",
       "      <td>Delhi</td>\n",
       "      <td>Cochin</td>\n",
       "      <td>DEL → BOM → COK</td>\n",
       "      <td>18:55</td>\n",
       "      <td>19:00</td>\n",
       "      <td>2h 50m</td>\n",
       "      <td>1 stop</td>\n",
       "      <td>No info</td>\n",
       "    </tr>\n",
       "    <tr>\n",
       "      <th>freq</th>\n",
       "      <td>3849</td>\n",
       "      <td>504</td>\n",
       "      <td>4537</td>\n",
       "      <td>4537</td>\n",
       "      <td>2376</td>\n",
       "      <td>233</td>\n",
       "      <td>423</td>\n",
       "      <td>550</td>\n",
       "      <td>5625</td>\n",
       "      <td>8345</td>\n",
       "    </tr>\n",
       "  </tbody>\n",
       "</table>\n",
       "</div>"
      ],
      "text/plain": [
       "            Airline Date_of_Journey Source Destination            Route  \\\n",
       "count         10683           10683  10683       10683            10682   \n",
       "unique           12              44      5           6              128   \n",
       "top     Jet Airways      18/05/2019  Delhi      Cochin  DEL → BOM → COK   \n",
       "freq           3849             504   4537        4537             2376   \n",
       "\n",
       "       Dep_Time Arrival_Time Duration Total_Stops Additional_Info  \n",
       "count     10683        10683    10683       10682           10683  \n",
       "unique      222         1343      368           5              10  \n",
       "top       18:55        19:00   2h 50m      1 stop         No info  \n",
       "freq        233          423      550        5625            8345  "
      ]
     },
     "execution_count": 8,
     "metadata": {},
     "output_type": "execute_result"
    }
   ],
   "source": [
    "df.describe(include=['O'])"
   ]
  },
  {
   "cell_type": "markdown",
   "id": "35676989",
   "metadata": {},
   "source": [
    "# EDA"
   ]
  },
  {
   "cell_type": "markdown",
   "id": "d9f0f632",
   "metadata": {},
   "source": [
    "## Finding and dropping the dupliacate values:"
   ]
  },
  {
   "cell_type": "code",
   "execution_count": 9,
   "id": "c887cfee",
   "metadata": {},
   "outputs": [
    {
     "data": {
      "text/html": [
       "<div>\n",
       "<style scoped>\n",
       "    .dataframe tbody tr th:only-of-type {\n",
       "        vertical-align: middle;\n",
       "    }\n",
       "\n",
       "    .dataframe tbody tr th {\n",
       "        vertical-align: top;\n",
       "    }\n",
       "\n",
       "    .dataframe thead th {\n",
       "        text-align: right;\n",
       "    }\n",
       "</style>\n",
       "<table border=\"1\" class=\"dataframe\">\n",
       "  <thead>\n",
       "    <tr style=\"text-align: right;\">\n",
       "      <th></th>\n",
       "      <th>Airline</th>\n",
       "      <th>Date_of_Journey</th>\n",
       "      <th>Source</th>\n",
       "      <th>Destination</th>\n",
       "      <th>Route</th>\n",
       "      <th>Dep_Time</th>\n",
       "      <th>Arrival_Time</th>\n",
       "      <th>Duration</th>\n",
       "      <th>Total_Stops</th>\n",
       "      <th>Additional_Info</th>\n",
       "      <th>Price</th>\n",
       "    </tr>\n",
       "  </thead>\n",
       "  <tbody>\n",
       "    <tr>\n",
       "      <th>683</th>\n",
       "      <td>Jet Airways</td>\n",
       "      <td>1/06/2019</td>\n",
       "      <td>Delhi</td>\n",
       "      <td>Cochin</td>\n",
       "      <td>DEL → NAG → BOM → COK</td>\n",
       "      <td>14:35</td>\n",
       "      <td>04:25 02 Jun</td>\n",
       "      <td>13h 50m</td>\n",
       "      <td>2 stops</td>\n",
       "      <td>No info</td>\n",
       "      <td>13376</td>\n",
       "    </tr>\n",
       "    <tr>\n",
       "      <th>1061</th>\n",
       "      <td>Air India</td>\n",
       "      <td>21/05/2019</td>\n",
       "      <td>Delhi</td>\n",
       "      <td>Cochin</td>\n",
       "      <td>DEL → GOI → BOM → COK</td>\n",
       "      <td>22:00</td>\n",
       "      <td>19:15 22 May</td>\n",
       "      <td>21h 15m</td>\n",
       "      <td>2 stops</td>\n",
       "      <td>No info</td>\n",
       "      <td>10231</td>\n",
       "    </tr>\n",
       "    <tr>\n",
       "      <th>1348</th>\n",
       "      <td>Air India</td>\n",
       "      <td>18/05/2019</td>\n",
       "      <td>Delhi</td>\n",
       "      <td>Cochin</td>\n",
       "      <td>DEL → HYD → BOM → COK</td>\n",
       "      <td>17:15</td>\n",
       "      <td>19:15 19 May</td>\n",
       "      <td>26h</td>\n",
       "      <td>2 stops</td>\n",
       "      <td>No info</td>\n",
       "      <td>12392</td>\n",
       "    </tr>\n",
       "    <tr>\n",
       "      <th>1418</th>\n",
       "      <td>Jet Airways</td>\n",
       "      <td>6/06/2019</td>\n",
       "      <td>Delhi</td>\n",
       "      <td>Cochin</td>\n",
       "      <td>DEL → JAI → BOM → COK</td>\n",
       "      <td>05:30</td>\n",
       "      <td>04:25 07 Jun</td>\n",
       "      <td>22h 55m</td>\n",
       "      <td>2 stops</td>\n",
       "      <td>In-flight meal not included</td>\n",
       "      <td>10368</td>\n",
       "    </tr>\n",
       "    <tr>\n",
       "      <th>1674</th>\n",
       "      <td>IndiGo</td>\n",
       "      <td>24/03/2019</td>\n",
       "      <td>Banglore</td>\n",
       "      <td>New Delhi</td>\n",
       "      <td>BLR → DEL</td>\n",
       "      <td>18:25</td>\n",
       "      <td>21:20</td>\n",
       "      <td>2h 55m</td>\n",
       "      <td>non-stop</td>\n",
       "      <td>No info</td>\n",
       "      <td>7303</td>\n",
       "    </tr>\n",
       "    <tr>\n",
       "      <th>...</th>\n",
       "      <td>...</td>\n",
       "      <td>...</td>\n",
       "      <td>...</td>\n",
       "      <td>...</td>\n",
       "      <td>...</td>\n",
       "      <td>...</td>\n",
       "      <td>...</td>\n",
       "      <td>...</td>\n",
       "      <td>...</td>\n",
       "      <td>...</td>\n",
       "      <td>...</td>\n",
       "    </tr>\n",
       "    <tr>\n",
       "      <th>10594</th>\n",
       "      <td>Jet Airways</td>\n",
       "      <td>27/06/2019</td>\n",
       "      <td>Delhi</td>\n",
       "      <td>Cochin</td>\n",
       "      <td>DEL → AMD → BOM → COK</td>\n",
       "      <td>23:05</td>\n",
       "      <td>12:35 28 Jun</td>\n",
       "      <td>13h 30m</td>\n",
       "      <td>2 stops</td>\n",
       "      <td>No info</td>\n",
       "      <td>12819</td>\n",
       "    </tr>\n",
       "    <tr>\n",
       "      <th>10616</th>\n",
       "      <td>Jet Airways</td>\n",
       "      <td>1/06/2019</td>\n",
       "      <td>Delhi</td>\n",
       "      <td>Cochin</td>\n",
       "      <td>DEL → JAI → BOM → COK</td>\n",
       "      <td>09:40</td>\n",
       "      <td>12:35 02 Jun</td>\n",
       "      <td>26h 55m</td>\n",
       "      <td>2 stops</td>\n",
       "      <td>No info</td>\n",
       "      <td>13014</td>\n",
       "    </tr>\n",
       "    <tr>\n",
       "      <th>10634</th>\n",
       "      <td>Jet Airways</td>\n",
       "      <td>6/06/2019</td>\n",
       "      <td>Delhi</td>\n",
       "      <td>Cochin</td>\n",
       "      <td>DEL → JAI → BOM → COK</td>\n",
       "      <td>09:40</td>\n",
       "      <td>12:35 07 Jun</td>\n",
       "      <td>26h 55m</td>\n",
       "      <td>2 stops</td>\n",
       "      <td>In-flight meal not included</td>\n",
       "      <td>11733</td>\n",
       "    </tr>\n",
       "    <tr>\n",
       "      <th>10672</th>\n",
       "      <td>Jet Airways</td>\n",
       "      <td>27/06/2019</td>\n",
       "      <td>Delhi</td>\n",
       "      <td>Cochin</td>\n",
       "      <td>DEL → AMD → BOM → COK</td>\n",
       "      <td>23:05</td>\n",
       "      <td>19:00 28 Jun</td>\n",
       "      <td>19h 55m</td>\n",
       "      <td>2 stops</td>\n",
       "      <td>In-flight meal not included</td>\n",
       "      <td>11150</td>\n",
       "    </tr>\n",
       "    <tr>\n",
       "      <th>10673</th>\n",
       "      <td>Jet Airways</td>\n",
       "      <td>27/05/2019</td>\n",
       "      <td>Delhi</td>\n",
       "      <td>Cochin</td>\n",
       "      <td>DEL → AMD → BOM → COK</td>\n",
       "      <td>13:25</td>\n",
       "      <td>04:25 28 May</td>\n",
       "      <td>15h</td>\n",
       "      <td>2 stops</td>\n",
       "      <td>No info</td>\n",
       "      <td>16704</td>\n",
       "    </tr>\n",
       "  </tbody>\n",
       "</table>\n",
       "<p>220 rows × 11 columns</p>\n",
       "</div>"
      ],
      "text/plain": [
       "           Airline Date_of_Journey    Source Destination  \\\n",
       "683    Jet Airways       1/06/2019     Delhi      Cochin   \n",
       "1061     Air India      21/05/2019     Delhi      Cochin   \n",
       "1348     Air India      18/05/2019     Delhi      Cochin   \n",
       "1418   Jet Airways       6/06/2019     Delhi      Cochin   \n",
       "1674        IndiGo      24/03/2019  Banglore   New Delhi   \n",
       "...            ...             ...       ...         ...   \n",
       "10594  Jet Airways      27/06/2019     Delhi      Cochin   \n",
       "10616  Jet Airways       1/06/2019     Delhi      Cochin   \n",
       "10634  Jet Airways       6/06/2019     Delhi      Cochin   \n",
       "10672  Jet Airways      27/06/2019     Delhi      Cochin   \n",
       "10673  Jet Airways      27/05/2019     Delhi      Cochin   \n",
       "\n",
       "                       Route Dep_Time  Arrival_Time Duration Total_Stops  \\\n",
       "683    DEL → NAG → BOM → COK    14:35  04:25 02 Jun  13h 50m     2 stops   \n",
       "1061   DEL → GOI → BOM → COK    22:00  19:15 22 May  21h 15m     2 stops   \n",
       "1348   DEL → HYD → BOM → COK    17:15  19:15 19 May      26h     2 stops   \n",
       "1418   DEL → JAI → BOM → COK    05:30  04:25 07 Jun  22h 55m     2 stops   \n",
       "1674               BLR → DEL    18:25         21:20   2h 55m    non-stop   \n",
       "...                      ...      ...           ...      ...         ...   \n",
       "10594  DEL → AMD → BOM → COK    23:05  12:35 28 Jun  13h 30m     2 stops   \n",
       "10616  DEL → JAI → BOM → COK    09:40  12:35 02 Jun  26h 55m     2 stops   \n",
       "10634  DEL → JAI → BOM → COK    09:40  12:35 07 Jun  26h 55m     2 stops   \n",
       "10672  DEL → AMD → BOM → COK    23:05  19:00 28 Jun  19h 55m     2 stops   \n",
       "10673  DEL → AMD → BOM → COK    13:25  04:25 28 May      15h     2 stops   \n",
       "\n",
       "                   Additional_Info  Price  \n",
       "683                        No info  13376  \n",
       "1061                       No info  10231  \n",
       "1348                       No info  12392  \n",
       "1418   In-flight meal not included  10368  \n",
       "1674                       No info   7303  \n",
       "...                            ...    ...  \n",
       "10594                      No info  12819  \n",
       "10616                      No info  13014  \n",
       "10634  In-flight meal not included  11733  \n",
       "10672  In-flight meal not included  11150  \n",
       "10673                      No info  16704  \n",
       "\n",
       "[220 rows x 11 columns]"
      ]
     },
     "execution_count": 9,
     "metadata": {},
     "output_type": "execute_result"
    }
   ],
   "source": [
    "df[df.duplicated() == True]"
   ]
  },
  {
   "cell_type": "code",
   "execution_count": 10,
   "id": "39ff5fdb",
   "metadata": {},
   "outputs": [],
   "source": [
    "df = df.drop_duplicates()"
   ]
  },
  {
   "cell_type": "code",
   "execution_count": 11,
   "id": "3776676c",
   "metadata": {},
   "outputs": [],
   "source": [
    "df = df.reset_index(drop=True)"
   ]
  },
  {
   "cell_type": "code",
   "execution_count": 12,
   "id": "45c904de",
   "metadata": {},
   "outputs": [
    {
     "data": {
      "text/html": [
       "<div>\n",
       "<style scoped>\n",
       "    .dataframe tbody tr th:only-of-type {\n",
       "        vertical-align: middle;\n",
       "    }\n",
       "\n",
       "    .dataframe tbody tr th {\n",
       "        vertical-align: top;\n",
       "    }\n",
       "\n",
       "    .dataframe thead th {\n",
       "        text-align: right;\n",
       "    }\n",
       "</style>\n",
       "<table border=\"1\" class=\"dataframe\">\n",
       "  <thead>\n",
       "    <tr style=\"text-align: right;\">\n",
       "      <th></th>\n",
       "      <th>Airline</th>\n",
       "      <th>Date_of_Journey</th>\n",
       "      <th>Source</th>\n",
       "      <th>Destination</th>\n",
       "      <th>Route</th>\n",
       "      <th>Dep_Time</th>\n",
       "      <th>Arrival_Time</th>\n",
       "      <th>Duration</th>\n",
       "      <th>Total_Stops</th>\n",
       "      <th>Additional_Info</th>\n",
       "      <th>Price</th>\n",
       "    </tr>\n",
       "  </thead>\n",
       "  <tbody>\n",
       "    <tr>\n",
       "      <th>0</th>\n",
       "      <td>IndiGo</td>\n",
       "      <td>24/03/2019</td>\n",
       "      <td>Banglore</td>\n",
       "      <td>New Delhi</td>\n",
       "      <td>BLR → DEL</td>\n",
       "      <td>22:20</td>\n",
       "      <td>01:10 22 Mar</td>\n",
       "      <td>2h 50m</td>\n",
       "      <td>non-stop</td>\n",
       "      <td>No info</td>\n",
       "      <td>3897</td>\n",
       "    </tr>\n",
       "    <tr>\n",
       "      <th>1</th>\n",
       "      <td>Air India</td>\n",
       "      <td>1/05/2019</td>\n",
       "      <td>Kolkata</td>\n",
       "      <td>Banglore</td>\n",
       "      <td>CCU → IXR → BBI → BLR</td>\n",
       "      <td>05:50</td>\n",
       "      <td>13:15</td>\n",
       "      <td>7h 25m</td>\n",
       "      <td>2 stops</td>\n",
       "      <td>No info</td>\n",
       "      <td>7662</td>\n",
       "    </tr>\n",
       "    <tr>\n",
       "      <th>2</th>\n",
       "      <td>Jet Airways</td>\n",
       "      <td>9/06/2019</td>\n",
       "      <td>Delhi</td>\n",
       "      <td>Cochin</td>\n",
       "      <td>DEL → LKO → BOM → COK</td>\n",
       "      <td>09:25</td>\n",
       "      <td>04:25 10 Jun</td>\n",
       "      <td>19h</td>\n",
       "      <td>2 stops</td>\n",
       "      <td>No info</td>\n",
       "      <td>13882</td>\n",
       "    </tr>\n",
       "    <tr>\n",
       "      <th>3</th>\n",
       "      <td>IndiGo</td>\n",
       "      <td>12/05/2019</td>\n",
       "      <td>Kolkata</td>\n",
       "      <td>Banglore</td>\n",
       "      <td>CCU → NAG → BLR</td>\n",
       "      <td>18:05</td>\n",
       "      <td>23:30</td>\n",
       "      <td>5h 25m</td>\n",
       "      <td>1 stop</td>\n",
       "      <td>No info</td>\n",
       "      <td>6218</td>\n",
       "    </tr>\n",
       "    <tr>\n",
       "      <th>4</th>\n",
       "      <td>IndiGo</td>\n",
       "      <td>01/03/2019</td>\n",
       "      <td>Banglore</td>\n",
       "      <td>New Delhi</td>\n",
       "      <td>BLR → NAG → DEL</td>\n",
       "      <td>16:50</td>\n",
       "      <td>21:35</td>\n",
       "      <td>4h 45m</td>\n",
       "      <td>1 stop</td>\n",
       "      <td>No info</td>\n",
       "      <td>13302</td>\n",
       "    </tr>\n",
       "    <tr>\n",
       "      <th>...</th>\n",
       "      <td>...</td>\n",
       "      <td>...</td>\n",
       "      <td>...</td>\n",
       "      <td>...</td>\n",
       "      <td>...</td>\n",
       "      <td>...</td>\n",
       "      <td>...</td>\n",
       "      <td>...</td>\n",
       "      <td>...</td>\n",
       "      <td>...</td>\n",
       "      <td>...</td>\n",
       "    </tr>\n",
       "    <tr>\n",
       "      <th>10458</th>\n",
       "      <td>Air Asia</td>\n",
       "      <td>9/04/2019</td>\n",
       "      <td>Kolkata</td>\n",
       "      <td>Banglore</td>\n",
       "      <td>CCU → BLR</td>\n",
       "      <td>19:55</td>\n",
       "      <td>22:25</td>\n",
       "      <td>2h 30m</td>\n",
       "      <td>non-stop</td>\n",
       "      <td>No info</td>\n",
       "      <td>4107</td>\n",
       "    </tr>\n",
       "    <tr>\n",
       "      <th>10459</th>\n",
       "      <td>Air India</td>\n",
       "      <td>27/04/2019</td>\n",
       "      <td>Kolkata</td>\n",
       "      <td>Banglore</td>\n",
       "      <td>CCU → BLR</td>\n",
       "      <td>20:45</td>\n",
       "      <td>23:20</td>\n",
       "      <td>2h 35m</td>\n",
       "      <td>non-stop</td>\n",
       "      <td>No info</td>\n",
       "      <td>4145</td>\n",
       "    </tr>\n",
       "    <tr>\n",
       "      <th>10460</th>\n",
       "      <td>Jet Airways</td>\n",
       "      <td>27/04/2019</td>\n",
       "      <td>Banglore</td>\n",
       "      <td>Delhi</td>\n",
       "      <td>BLR → DEL</td>\n",
       "      <td>08:20</td>\n",
       "      <td>11:20</td>\n",
       "      <td>3h</td>\n",
       "      <td>non-stop</td>\n",
       "      <td>No info</td>\n",
       "      <td>7229</td>\n",
       "    </tr>\n",
       "    <tr>\n",
       "      <th>10461</th>\n",
       "      <td>Vistara</td>\n",
       "      <td>01/03/2019</td>\n",
       "      <td>Banglore</td>\n",
       "      <td>New Delhi</td>\n",
       "      <td>BLR → DEL</td>\n",
       "      <td>11:30</td>\n",
       "      <td>14:10</td>\n",
       "      <td>2h 40m</td>\n",
       "      <td>non-stop</td>\n",
       "      <td>No info</td>\n",
       "      <td>12648</td>\n",
       "    </tr>\n",
       "    <tr>\n",
       "      <th>10462</th>\n",
       "      <td>Air India</td>\n",
       "      <td>9/05/2019</td>\n",
       "      <td>Delhi</td>\n",
       "      <td>Cochin</td>\n",
       "      <td>DEL → GOI → BOM → COK</td>\n",
       "      <td>10:55</td>\n",
       "      <td>19:15</td>\n",
       "      <td>8h 20m</td>\n",
       "      <td>2 stops</td>\n",
       "      <td>No info</td>\n",
       "      <td>11753</td>\n",
       "    </tr>\n",
       "  </tbody>\n",
       "</table>\n",
       "<p>10463 rows × 11 columns</p>\n",
       "</div>"
      ],
      "text/plain": [
       "           Airline Date_of_Journey    Source Destination  \\\n",
       "0           IndiGo      24/03/2019  Banglore   New Delhi   \n",
       "1        Air India       1/05/2019   Kolkata    Banglore   \n",
       "2      Jet Airways       9/06/2019     Delhi      Cochin   \n",
       "3           IndiGo      12/05/2019   Kolkata    Banglore   \n",
       "4           IndiGo      01/03/2019  Banglore   New Delhi   \n",
       "...            ...             ...       ...         ...   \n",
       "10458     Air Asia       9/04/2019   Kolkata    Banglore   \n",
       "10459    Air India      27/04/2019   Kolkata    Banglore   \n",
       "10460  Jet Airways      27/04/2019  Banglore       Delhi   \n",
       "10461      Vistara      01/03/2019  Banglore   New Delhi   \n",
       "10462    Air India       9/05/2019     Delhi      Cochin   \n",
       "\n",
       "                       Route Dep_Time  Arrival_Time Duration Total_Stops  \\\n",
       "0                  BLR → DEL    22:20  01:10 22 Mar   2h 50m    non-stop   \n",
       "1      CCU → IXR → BBI → BLR    05:50         13:15   7h 25m     2 stops   \n",
       "2      DEL → LKO → BOM → COK    09:25  04:25 10 Jun      19h     2 stops   \n",
       "3            CCU → NAG → BLR    18:05         23:30   5h 25m      1 stop   \n",
       "4            BLR → NAG → DEL    16:50         21:35   4h 45m      1 stop   \n",
       "...                      ...      ...           ...      ...         ...   \n",
       "10458              CCU → BLR    19:55         22:25   2h 30m    non-stop   \n",
       "10459              CCU → BLR    20:45         23:20   2h 35m    non-stop   \n",
       "10460              BLR → DEL    08:20         11:20       3h    non-stop   \n",
       "10461              BLR → DEL    11:30         14:10   2h 40m    non-stop   \n",
       "10462  DEL → GOI → BOM → COK    10:55         19:15   8h 20m     2 stops   \n",
       "\n",
       "      Additional_Info  Price  \n",
       "0             No info   3897  \n",
       "1             No info   7662  \n",
       "2             No info  13882  \n",
       "3             No info   6218  \n",
       "4             No info  13302  \n",
       "...               ...    ...  \n",
       "10458         No info   4107  \n",
       "10459         No info   4145  \n",
       "10460         No info   7229  \n",
       "10461         No info  12648  \n",
       "10462         No info  11753  \n",
       "\n",
       "[10463 rows x 11 columns]"
      ]
     },
     "execution_count": 12,
     "metadata": {},
     "output_type": "execute_result"
    }
   ],
   "source": [
    "df"
   ]
  },
  {
   "cell_type": "markdown",
   "id": "01321b9d",
   "metadata": {},
   "source": [
    "## Outlier Treatment"
   ]
  },
  {
   "cell_type": "code",
   "execution_count": 13,
   "id": "f2a1cae8",
   "metadata": {},
   "outputs": [],
   "source": [
    "def outlier_detection(data_name,column_name):\n",
    "    d = data_name[column_name].describe()\n",
    "    \n",
    "    IQR = d[-2] - d[-4]\n",
    "    \n",
    "    # Also check using 1.5IQR and take the one which provides better answer.\n",
    "    \n",
    "    lower = np.where(data_name[column_name] < d[-4] - 3*IQR)[0]\n",
    "    upper = np.where(data_name[column_name] > d[-2] + 3*IQR)[0]\n",
    "\n",
    "    s_l = set(lower)\n",
    "    s_u = set(upper)\n",
    "    \n",
    "    s = s_l.union(s_u)\n",
    "    \n",
    "    global s_arr\n",
    "    s_arr = np.array([i for i in s])\n",
    "    \n",
    "    print(f'Number of outliers in {column_name}: {len(s_arr)}.')"
   ]
  },
  {
   "cell_type": "code",
   "execution_count": 14,
   "id": "e8323c56",
   "metadata": {},
   "outputs": [
    {
     "name": "stdout",
     "output_type": "stream",
     "text": [
      "Number of outliers in Price: 16.\n"
     ]
    }
   ],
   "source": [
    "outlier_detection(df,'Price')\n",
    "\n",
    "out_price = s_arr"
   ]
  },
  {
   "cell_type": "code",
   "execution_count": 15,
   "id": "864e4c16",
   "metadata": {},
   "outputs": [],
   "source": [
    "df['Price'][out_price] = np.nan"
   ]
  },
  {
   "cell_type": "code",
   "execution_count": 16,
   "id": "be0fc993",
   "metadata": {},
   "outputs": [
    {
     "data": {
      "text/html": [
       "<div>\n",
       "<style scoped>\n",
       "    .dataframe tbody tr th:only-of-type {\n",
       "        vertical-align: middle;\n",
       "    }\n",
       "\n",
       "    .dataframe tbody tr th {\n",
       "        vertical-align: top;\n",
       "    }\n",
       "\n",
       "    .dataframe thead th {\n",
       "        text-align: right;\n",
       "    }\n",
       "</style>\n",
       "<table border=\"1\" class=\"dataframe\">\n",
       "  <thead>\n",
       "    <tr style=\"text-align: right;\">\n",
       "      <th></th>\n",
       "      <th>Airline</th>\n",
       "      <th>Date_of_Journey</th>\n",
       "      <th>Source</th>\n",
       "      <th>Destination</th>\n",
       "      <th>Route</th>\n",
       "      <th>Dep_Time</th>\n",
       "      <th>Arrival_Time</th>\n",
       "      <th>Duration</th>\n",
       "      <th>Total_Stops</th>\n",
       "      <th>Additional_Info</th>\n",
       "      <th>Price</th>\n",
       "    </tr>\n",
       "  </thead>\n",
       "  <tbody>\n",
       "    <tr>\n",
       "      <th>0</th>\n",
       "      <td>IndiGo</td>\n",
       "      <td>24/03/2019</td>\n",
       "      <td>Banglore</td>\n",
       "      <td>New Delhi</td>\n",
       "      <td>BLR → DEL</td>\n",
       "      <td>22:20</td>\n",
       "      <td>01:10 22 Mar</td>\n",
       "      <td>2h 50m</td>\n",
       "      <td>non-stop</td>\n",
       "      <td>No info</td>\n",
       "      <td>3897.0</td>\n",
       "    </tr>\n",
       "    <tr>\n",
       "      <th>1</th>\n",
       "      <td>Air India</td>\n",
       "      <td>1/05/2019</td>\n",
       "      <td>Kolkata</td>\n",
       "      <td>Banglore</td>\n",
       "      <td>CCU → IXR → BBI → BLR</td>\n",
       "      <td>05:50</td>\n",
       "      <td>13:15</td>\n",
       "      <td>7h 25m</td>\n",
       "      <td>2 stops</td>\n",
       "      <td>No info</td>\n",
       "      <td>7662.0</td>\n",
       "    </tr>\n",
       "    <tr>\n",
       "      <th>2</th>\n",
       "      <td>Jet Airways</td>\n",
       "      <td>9/06/2019</td>\n",
       "      <td>Delhi</td>\n",
       "      <td>Cochin</td>\n",
       "      <td>DEL → LKO → BOM → COK</td>\n",
       "      <td>09:25</td>\n",
       "      <td>04:25 10 Jun</td>\n",
       "      <td>19h</td>\n",
       "      <td>2 stops</td>\n",
       "      <td>No info</td>\n",
       "      <td>13882.0</td>\n",
       "    </tr>\n",
       "    <tr>\n",
       "      <th>3</th>\n",
       "      <td>IndiGo</td>\n",
       "      <td>12/05/2019</td>\n",
       "      <td>Kolkata</td>\n",
       "      <td>Banglore</td>\n",
       "      <td>CCU → NAG → BLR</td>\n",
       "      <td>18:05</td>\n",
       "      <td>23:30</td>\n",
       "      <td>5h 25m</td>\n",
       "      <td>1 stop</td>\n",
       "      <td>No info</td>\n",
       "      <td>6218.0</td>\n",
       "    </tr>\n",
       "    <tr>\n",
       "      <th>4</th>\n",
       "      <td>IndiGo</td>\n",
       "      <td>01/03/2019</td>\n",
       "      <td>Banglore</td>\n",
       "      <td>New Delhi</td>\n",
       "      <td>BLR → NAG → DEL</td>\n",
       "      <td>16:50</td>\n",
       "      <td>21:35</td>\n",
       "      <td>4h 45m</td>\n",
       "      <td>1 stop</td>\n",
       "      <td>No info</td>\n",
       "      <td>13302.0</td>\n",
       "    </tr>\n",
       "    <tr>\n",
       "      <th>...</th>\n",
       "      <td>...</td>\n",
       "      <td>...</td>\n",
       "      <td>...</td>\n",
       "      <td>...</td>\n",
       "      <td>...</td>\n",
       "      <td>...</td>\n",
       "      <td>...</td>\n",
       "      <td>...</td>\n",
       "      <td>...</td>\n",
       "      <td>...</td>\n",
       "      <td>...</td>\n",
       "    </tr>\n",
       "    <tr>\n",
       "      <th>10458</th>\n",
       "      <td>Air Asia</td>\n",
       "      <td>9/04/2019</td>\n",
       "      <td>Kolkata</td>\n",
       "      <td>Banglore</td>\n",
       "      <td>CCU → BLR</td>\n",
       "      <td>19:55</td>\n",
       "      <td>22:25</td>\n",
       "      <td>2h 30m</td>\n",
       "      <td>non-stop</td>\n",
       "      <td>No info</td>\n",
       "      <td>4107.0</td>\n",
       "    </tr>\n",
       "    <tr>\n",
       "      <th>10459</th>\n",
       "      <td>Air India</td>\n",
       "      <td>27/04/2019</td>\n",
       "      <td>Kolkata</td>\n",
       "      <td>Banglore</td>\n",
       "      <td>CCU → BLR</td>\n",
       "      <td>20:45</td>\n",
       "      <td>23:20</td>\n",
       "      <td>2h 35m</td>\n",
       "      <td>non-stop</td>\n",
       "      <td>No info</td>\n",
       "      <td>4145.0</td>\n",
       "    </tr>\n",
       "    <tr>\n",
       "      <th>10460</th>\n",
       "      <td>Jet Airways</td>\n",
       "      <td>27/04/2019</td>\n",
       "      <td>Banglore</td>\n",
       "      <td>Delhi</td>\n",
       "      <td>BLR → DEL</td>\n",
       "      <td>08:20</td>\n",
       "      <td>11:20</td>\n",
       "      <td>3h</td>\n",
       "      <td>non-stop</td>\n",
       "      <td>No info</td>\n",
       "      <td>7229.0</td>\n",
       "    </tr>\n",
       "    <tr>\n",
       "      <th>10461</th>\n",
       "      <td>Vistara</td>\n",
       "      <td>01/03/2019</td>\n",
       "      <td>Banglore</td>\n",
       "      <td>New Delhi</td>\n",
       "      <td>BLR → DEL</td>\n",
       "      <td>11:30</td>\n",
       "      <td>14:10</td>\n",
       "      <td>2h 40m</td>\n",
       "      <td>non-stop</td>\n",
       "      <td>No info</td>\n",
       "      <td>12648.0</td>\n",
       "    </tr>\n",
       "    <tr>\n",
       "      <th>10462</th>\n",
       "      <td>Air India</td>\n",
       "      <td>9/05/2019</td>\n",
       "      <td>Delhi</td>\n",
       "      <td>Cochin</td>\n",
       "      <td>DEL → GOI → BOM → COK</td>\n",
       "      <td>10:55</td>\n",
       "      <td>19:15</td>\n",
       "      <td>8h 20m</td>\n",
       "      <td>2 stops</td>\n",
       "      <td>No info</td>\n",
       "      <td>11753.0</td>\n",
       "    </tr>\n",
       "  </tbody>\n",
       "</table>\n",
       "<p>10463 rows × 11 columns</p>\n",
       "</div>"
      ],
      "text/plain": [
       "           Airline Date_of_Journey    Source Destination  \\\n",
       "0           IndiGo      24/03/2019  Banglore   New Delhi   \n",
       "1        Air India       1/05/2019   Kolkata    Banglore   \n",
       "2      Jet Airways       9/06/2019     Delhi      Cochin   \n",
       "3           IndiGo      12/05/2019   Kolkata    Banglore   \n",
       "4           IndiGo      01/03/2019  Banglore   New Delhi   \n",
       "...            ...             ...       ...         ...   \n",
       "10458     Air Asia       9/04/2019   Kolkata    Banglore   \n",
       "10459    Air India      27/04/2019   Kolkata    Banglore   \n",
       "10460  Jet Airways      27/04/2019  Banglore       Delhi   \n",
       "10461      Vistara      01/03/2019  Banglore   New Delhi   \n",
       "10462    Air India       9/05/2019     Delhi      Cochin   \n",
       "\n",
       "                       Route Dep_Time  Arrival_Time Duration Total_Stops  \\\n",
       "0                  BLR → DEL    22:20  01:10 22 Mar   2h 50m    non-stop   \n",
       "1      CCU → IXR → BBI → BLR    05:50         13:15   7h 25m     2 stops   \n",
       "2      DEL → LKO → BOM → COK    09:25  04:25 10 Jun      19h     2 stops   \n",
       "3            CCU → NAG → BLR    18:05         23:30   5h 25m      1 stop   \n",
       "4            BLR → NAG → DEL    16:50         21:35   4h 45m      1 stop   \n",
       "...                      ...      ...           ...      ...         ...   \n",
       "10458              CCU → BLR    19:55         22:25   2h 30m    non-stop   \n",
       "10459              CCU → BLR    20:45         23:20   2h 35m    non-stop   \n",
       "10460              BLR → DEL    08:20         11:20       3h    non-stop   \n",
       "10461              BLR → DEL    11:30         14:10   2h 40m    non-stop   \n",
       "10462  DEL → GOI → BOM → COK    10:55         19:15   8h 20m     2 stops   \n",
       "\n",
       "      Additional_Info    Price  \n",
       "0             No info   3897.0  \n",
       "1             No info   7662.0  \n",
       "2             No info  13882.0  \n",
       "3             No info   6218.0  \n",
       "4             No info  13302.0  \n",
       "...               ...      ...  \n",
       "10458         No info   4107.0  \n",
       "10459         No info   4145.0  \n",
       "10460         No info   7229.0  \n",
       "10461         No info  12648.0  \n",
       "10462         No info  11753.0  \n",
       "\n",
       "[10463 rows x 11 columns]"
      ]
     },
     "execution_count": 16,
     "metadata": {},
     "output_type": "execute_result"
    }
   ],
   "source": [
    "df"
   ]
  },
  {
   "cell_type": "markdown",
   "id": "ee77b9e1",
   "metadata": {},
   "source": [
    "## Missing Values"
   ]
  },
  {
   "cell_type": "code",
   "execution_count": 17,
   "id": "ebb7e7a3",
   "metadata": {
    "scrolled": true
   },
   "outputs": [
    {
     "data": {
      "text/plain": [
       "Airline             0\n",
       "Date_of_Journey     0\n",
       "Source              0\n",
       "Destination         0\n",
       "Route               1\n",
       "Dep_Time            0\n",
       "Arrival_Time        0\n",
       "Duration            0\n",
       "Total_Stops         1\n",
       "Additional_Info     0\n",
       "Price              16\n",
       "dtype: int64"
      ]
     },
     "execution_count": 17,
     "metadata": {},
     "output_type": "execute_result"
    }
   ],
   "source": [
    "df.isnull().sum()"
   ]
  },
  {
   "cell_type": "code",
   "execution_count": 18,
   "id": "d2e2bfcc",
   "metadata": {},
   "outputs": [
    {
     "data": {
      "text/plain": [
       "Airline             0\n",
       "Date_of_Journey     0\n",
       "Source              0\n",
       "Destination         0\n",
       "Route               1\n",
       "Dep_Time            0\n",
       "Arrival_Time        0\n",
       "Duration            0\n",
       "Total_Stops         1\n",
       "Additional_Info     0\n",
       "Price              16\n",
       "dtype: int64"
      ]
     },
     "execution_count": 18,
     "metadata": {},
     "output_type": "execute_result"
    }
   ],
   "source": [
    "df.isnull().sum()"
   ]
  },
  {
   "cell_type": "code",
   "execution_count": 19,
   "id": "56dfeff2",
   "metadata": {
    "scrolled": false
   },
   "outputs": [
    {
     "data": {
      "text/plain": [
       "Airline            0\n",
       "Date_of_Journey    0\n",
       "Source             0\n",
       "Destination        0\n",
       "Route              0\n",
       "Dep_Time           0\n",
       "Arrival_Time       0\n",
       "Duration           0\n",
       "Total_Stops        0\n",
       "Additional_Info    0\n",
       "dtype: int64"
      ]
     },
     "execution_count": 19,
     "metadata": {},
     "output_type": "execute_result"
    }
   ],
   "source": [
    "l = df['Price']\n",
    "\n",
    "df = df.drop('Price',axis=1).dropna()\n",
    "df.isnull().sum()"
   ]
  },
  {
   "cell_type": "code",
   "execution_count": 20,
   "id": "412f69b9",
   "metadata": {},
   "outputs": [],
   "source": [
    "from sklearn.experimental import enable_iterative_imputer\n",
    "from sklearn.impute import IterativeImputer"
   ]
  },
  {
   "cell_type": "code",
   "execution_count": 21,
   "id": "3fbf386c",
   "metadata": {},
   "outputs": [],
   "source": [
    "df['Price'] = l\n",
    "df['Price'] = df['Price'].fillna(value = df['Price'].median())"
   ]
  },
  {
   "cell_type": "code",
   "execution_count": 22,
   "id": "aadd6d28",
   "metadata": {},
   "outputs": [
    {
     "data": {
      "text/plain": [
       "Airline            0\n",
       "Date_of_Journey    0\n",
       "Source             0\n",
       "Destination        0\n",
       "Route              0\n",
       "Dep_Time           0\n",
       "Arrival_Time       0\n",
       "Duration           0\n",
       "Total_Stops        0\n",
       "Additional_Info    0\n",
       "Price              0\n",
       "dtype: int64"
      ]
     },
     "execution_count": 22,
     "metadata": {},
     "output_type": "execute_result"
    }
   ],
   "source": [
    "df.isnull().sum()"
   ]
  },
  {
   "cell_type": "code",
   "execution_count": 23,
   "id": "1c1191ed",
   "metadata": {},
   "outputs": [],
   "source": [
    "df = df.reset_index(drop=True)"
   ]
  },
  {
   "cell_type": "markdown",
   "id": "4446d015",
   "metadata": {},
   "source": [
    "## Coutplot of Categorical Variables:"
   ]
  },
  {
   "cell_type": "code",
   "execution_count": 24,
   "id": "f9d8afe6",
   "metadata": {
    "scrolled": false
   },
   "outputs": [
    {
     "name": "stdout",
     "output_type": "stream",
     "text": [
      "Most frequently occuring Airline in dataset is Jet Airways.\n",
      "Least frequently occuring Airline in dataset is Trujet.\n"
     ]
    },
    {
     "data": {
      "image/png": "[encoded data removed]",
      "text/plain": [
       "<Figure size 720x720 with 1 Axes>"
      ]
     },
     "metadata": {},
     "output_type": "display_data"
    },
    {
     "name": "stdout",
     "output_type": "stream",
     "text": [
      "Most frequently occuring Source in dataset is Delhi.\n",
      "Least frequently occuring Source in dataset is Chennai.\n"
     ]
    },
    {
     "data": {
      "image/png": "[encoded data removed]",
      "text/plain": [
       "<Figure size 720x720 with 1 Axes>"
      ]
     },
     "metadata": {},
     "output_type": "display_data"
    },
    {
     "name": "stdout",
     "output_type": "stream",
     "text": [
      "Most frequently occuring Destination in dataset is Cochin.\n",
      "Least frequently occuring Destination in dataset is Kolkata.\n"
     ]
    },
    {
     "data": {
      "image/png": "[encoded data removed]",
      "text/plain": [
       "<Figure size 720x720 with 1 Axes>"
      ]
     },
     "metadata": {},
     "output_type": "display_data"
    },
    {
     "name": "stdout",
     "output_type": "stream",
     "text": [
      "Most frequently occuring Total_Stops in dataset is 1 stop.\n",
      "Least frequently occuring Total_Stops in dataset is 4 stops.\n"
     ]
    },
    {
     "data": {
      "image/png": "[encoded data removed]",
      "text/plain": [
       "<Figure size 720x720 with 1 Axes>"
      ]
     },
     "metadata": {},
     "output_type": "display_data"
    },
    {
     "name": "stdout",
     "output_type": "stream",
     "text": [
      "Most frequently occuring Additional_Info in dataset is No info.\n",
      "Least frequently occuring Additional_Info in dataset is 2 Long layover.\n"
     ]
    },
    {
     "data": {
      "image/png": "[encoded data removed]",
      "text/plain": [
       "<Figure size 720x720 with 1 Axes>"
      ]
     },
     "metadata": {},
     "output_type": "display_data"
    }
   ],
   "source": [
    "l_c = ['Airline','Source','Destination','Total_Stops','Additional_Info']\n",
    "\n",
    "for i in l_c:\n",
    "    ax = sns.countplot(df[i])\n",
    "    for j in ax.containers:\n",
    "        ax.bar_label(j)\n",
    "\n",
    "    plt.xticks(rotation = 90)\n",
    "    print(f'Most frequently occuring {i} in dataset is {list(dict(df[i].value_counts()).keys())[0]}.')\n",
    "    print(f'Least frequently occuring {i} in dataset is {list(dict(df[i].value_counts()).keys())[-1]}.')\n",
    "    plt.show()"
   ]
  },
  {
   "cell_type": "markdown",
   "id": "8159ae77",
   "metadata": {},
   "source": [
    "## Creating new columns for Dep_Time, Arrival_time, Duration and Date:"
   ]
  },
  {
   "cell_type": "code",
   "execution_count": 25,
   "id": "f339ea07",
   "metadata": {
    "scrolled": false
   },
   "outputs": [],
   "source": [
    "l_n = [i.split(':') for i in df['Dep_Time']]\n",
    "\n",
    "df['Dep_Time_Hour'] = [int(l_n[i][0]) for i in range(0,len(l_n))]\n",
    "df['Dep_Time_Min'] = [int(l_n[i][1]) for i in range(0,len(l_n))]\n",
    "\n",
    "df = df.drop('Dep_Time',axis=1)"
   ]
  },
  {
   "cell_type": "code",
   "execution_count": 26,
   "id": "46a96215",
   "metadata": {},
   "outputs": [],
   "source": [
    "df = df.drop(df['Duration'][df['Duration'] == '5m'].index[0], axis=0)\n",
    "df = df.reset_index(drop = True)"
   ]
  },
  {
   "cell_type": "code",
   "execution_count": 27,
   "id": "d26b81f7",
   "metadata": {},
   "outputs": [],
   "source": [
    "duration=list(df['Duration'])\n",
    "\n",
    "for i in range(len(duration)):\n",
    "    if len(duration[i].split(' '))==2:\n",
    "        pass\n",
    "    else:\n",
    "        if 'h' in duration[i]: \n",
    "             duration[i]=duration[i] + ' 0m'\n",
    "        else:\n",
    "             duration[i]='0h '+ duration[i]\n",
    "                \n",
    "df['Duration'] = duration\n",
    "\n",
    "df['Dur_Hours'] = [int(df['Duration'][i].split('h')[0]) for i in range(0,len(df['Duration']))]\n",
    "df['Dur_Minis'] = [int(df['Duration'][i].split('m')[0].split('h')[1]) for i in range(0,len(df['Duration']))]\n",
    "\n",
    "df = df.drop('Duration', axis=1)"
   ]
  },
  {
   "cell_type": "code",
   "execution_count": 28,
   "id": "e08850ca",
   "metadata": {},
   "outputs": [],
   "source": [
    "df['Arr_Time_Hour'] = pd.to_datetime(df['Arrival_Time']).dt.hour\n",
    "df['Arr_Time_Min'] = pd.to_datetime(df['Arrival_Time']).dt.minute\n",
    "\n",
    "df = df.drop('Arrival_Time', axis=1)"
   ]
  },
  {
   "cell_type": "code",
   "execution_count": 29,
   "id": "3d192d02",
   "metadata": {
    "scrolled": false
   },
   "outputs": [],
   "source": [
    "l_d_o_j = [i.split('/' ) for i in df['Date_of_Journey']]\n",
    "\n",
    "l_d_o_j\n",
    "df['DOJ_Day'] = [int(l_d_o_j[i][0]) for i in range(0,len(l_d_o_j))]\n",
    "df['DOJ_Month'] = [int(l_d_o_j[i][1]) for i in range(0,len(l_d_o_j))]\n",
    "\n",
    "df = df.drop('Date_of_Journey', axis = 1)"
   ]
  },
  {
   "cell_type": "markdown",
   "id": "8602f79b",
   "metadata": {},
   "source": [
    "### Longest Flight"
   ]
  },
  {
   "cell_type": "code",
   "execution_count": 30,
   "id": "60d9f08c",
   "metadata": {
    "scrolled": false
   },
   "outputs": [
    {
     "data": {
      "text/html": [
       "<div>\n",
       "<style scoped>\n",
       "    .dataframe tbody tr th:only-of-type {\n",
       "        vertical-align: middle;\n",
       "    }\n",
       "\n",
       "    .dataframe tbody tr th {\n",
       "        vertical-align: top;\n",
       "    }\n",
       "\n",
       "    .dataframe thead th {\n",
       "        text-align: right;\n",
       "    }\n",
       "</style>\n",
       "<table border=\"1\" class=\"dataframe\">\n",
       "  <thead>\n",
       "    <tr style=\"text-align: right;\">\n",
       "      <th></th>\n",
       "      <th>Airline</th>\n",
       "      <th>Source</th>\n",
       "      <th>Destination</th>\n",
       "      <th>Route</th>\n",
       "      <th>Total_Stops</th>\n",
       "      <th>Additional_Info</th>\n",
       "      <th>Price</th>\n",
       "      <th>Dep_Time_Hour</th>\n",
       "      <th>Dep_Time_Min</th>\n",
       "      <th>Dur_Hours</th>\n",
       "      <th>Dur_Minis</th>\n",
       "      <th>Arr_Time_Hour</th>\n",
       "      <th>Arr_Time_Min</th>\n",
       "      <th>DOJ_Day</th>\n",
       "      <th>DOJ_Month</th>\n",
       "    </tr>\n",
       "  </thead>\n",
       "  <tbody>\n",
       "    <tr>\n",
       "      <th>1065</th>\n",
       "      <td>Jet Airways</td>\n",
       "      <td>Delhi</td>\n",
       "      <td>Cochin</td>\n",
       "      <td>DEL → IDR → BOM → COK</td>\n",
       "      <td>2 stops</td>\n",
       "      <td>No info</td>\n",
       "      <td>20064.0</td>\n",
       "      <td>5</td>\n",
       "      <td>25</td>\n",
       "      <td>47</td>\n",
       "      <td>0</td>\n",
       "      <td>4</td>\n",
       "      <td>25</td>\n",
       "      <td>3</td>\n",
       "      <td>3</td>\n",
       "    </tr>\n",
       "    <tr>\n",
       "      <th>10246</th>\n",
       "      <td>Jet Airways</td>\n",
       "      <td>Delhi</td>\n",
       "      <td>Cochin</td>\n",
       "      <td>DEL → AMD → BOM → COK</td>\n",
       "      <td>2 stops</td>\n",
       "      <td>No info</td>\n",
       "      <td>20694.0</td>\n",
       "      <td>19</td>\n",
       "      <td>10</td>\n",
       "      <td>47</td>\n",
       "      <td>40</td>\n",
       "      <td>18</td>\n",
       "      <td>50</td>\n",
       "      <td>6</td>\n",
       "      <td>3</td>\n",
       "    </tr>\n",
       "  </tbody>\n",
       "</table>\n",
       "</div>"
      ],
      "text/plain": [
       "           Airline Source Destination                  Route Total_Stops  \\\n",
       "1065   Jet Airways  Delhi      Cochin  DEL → IDR → BOM → COK     2 stops   \n",
       "10246  Jet Airways  Delhi      Cochin  DEL → AMD → BOM → COK     2 stops   \n",
       "\n",
       "      Additional_Info    Price  Dep_Time_Hour  Dep_Time_Min  Dur_Hours  \\\n",
       "1065          No info  20064.0              5            25         47   \n",
       "10246         No info  20694.0             19            10         47   \n",
       "\n",
       "       Dur_Minis  Arr_Time_Hour  Arr_Time_Min  DOJ_Day  DOJ_Month  \n",
       "1065           0              4            25        3          3  \n",
       "10246         40             18            50        6          3  "
      ]
     },
     "execution_count": 30,
     "metadata": {},
     "output_type": "execute_result"
    }
   ],
   "source": [
    "df[df['Dur_Hours'] == max(df['Dur_Hours'])]"
   ]
  },
  {
   "cell_type": "markdown",
   "id": "69ca34f7",
   "metadata": {},
   "source": [
    "The Longest flight Duration is for Delhi -> Cochin."
   ]
  },
  {
   "cell_type": "markdown",
   "id": "008317c9",
   "metadata": {},
   "source": [
    "### Shortest Flight"
   ]
  },
  {
   "cell_type": "code",
   "execution_count": 31,
   "id": "4df8dce1",
   "metadata": {
    "scrolled": false
   },
   "outputs": [
    {
     "data": {
      "text/html": [
       "<div>\n",
       "<style scoped>\n",
       "    .dataframe tbody tr th:only-of-type {\n",
       "        vertical-align: middle;\n",
       "    }\n",
       "\n",
       "    .dataframe tbody tr th {\n",
       "        vertical-align: top;\n",
       "    }\n",
       "\n",
       "    .dataframe thead th {\n",
       "        text-align: right;\n",
       "    }\n",
       "</style>\n",
       "<table border=\"1\" class=\"dataframe\">\n",
       "  <thead>\n",
       "    <tr style=\"text-align: right;\">\n",
       "      <th></th>\n",
       "      <th>Airline</th>\n",
       "      <th>Source</th>\n",
       "      <th>Destination</th>\n",
       "      <th>Route</th>\n",
       "      <th>Total_Stops</th>\n",
       "      <th>Additional_Info</th>\n",
       "      <th>Price</th>\n",
       "      <th>Dep_Time_Hour</th>\n",
       "      <th>Dep_Time_Min</th>\n",
       "      <th>Dur_Hours</th>\n",
       "      <th>Dur_Minis</th>\n",
       "      <th>Arr_Time_Hour</th>\n",
       "      <th>Arr_Time_Min</th>\n",
       "      <th>DOJ_Day</th>\n",
       "      <th>DOJ_Month</th>\n",
       "    </tr>\n",
       "  </thead>\n",
       "  <tbody>\n",
       "    <tr>\n",
       "      <th>67</th>\n",
       "      <td>Air India</td>\n",
       "      <td>Mumbai</td>\n",
       "      <td>Hyderabad</td>\n",
       "      <td>BOM → HYD</td>\n",
       "      <td>non-stop</td>\n",
       "      <td>No info</td>\n",
       "      <td>3625.0</td>\n",
       "      <td>13</td>\n",
       "      <td>55</td>\n",
       "      <td>1</td>\n",
       "      <td>30</td>\n",
       "      <td>15</td>\n",
       "      <td>25</td>\n",
       "      <td>6</td>\n",
       "      <td>5</td>\n",
       "    </tr>\n",
       "    <tr>\n",
       "      <th>70</th>\n",
       "      <td>Jet Airways</td>\n",
       "      <td>Mumbai</td>\n",
       "      <td>Hyderabad</td>\n",
       "      <td>BOM → HYD</td>\n",
       "      <td>non-stop</td>\n",
       "      <td>No info</td>\n",
       "      <td>5678.0</td>\n",
       "      <td>7</td>\n",
       "      <td>5</td>\n",
       "      <td>1</td>\n",
       "      <td>25</td>\n",
       "      <td>8</td>\n",
       "      <td>30</td>\n",
       "      <td>1</td>\n",
       "      <td>6</td>\n",
       "    </tr>\n",
       "    <tr>\n",
       "      <th>77</th>\n",
       "      <td>IndiGo</td>\n",
       "      <td>Mumbai</td>\n",
       "      <td>Hyderabad</td>\n",
       "      <td>BOM → HYD</td>\n",
       "      <td>non-stop</td>\n",
       "      <td>No info</td>\n",
       "      <td>4049.0</td>\n",
       "      <td>6</td>\n",
       "      <td>25</td>\n",
       "      <td>1</td>\n",
       "      <td>30</td>\n",
       "      <td>7</td>\n",
       "      <td>55</td>\n",
       "      <td>3</td>\n",
       "      <td>4</td>\n",
       "    </tr>\n",
       "    <tr>\n",
       "      <th>98</th>\n",
       "      <td>Jet Airways</td>\n",
       "      <td>Mumbai</td>\n",
       "      <td>Hyderabad</td>\n",
       "      <td>BOM → HYD</td>\n",
       "      <td>non-stop</td>\n",
       "      <td>No info</td>\n",
       "      <td>8040.0</td>\n",
       "      <td>7</td>\n",
       "      <td>5</td>\n",
       "      <td>1</td>\n",
       "      <td>25</td>\n",
       "      <td>8</td>\n",
       "      <td>30</td>\n",
       "      <td>18</td>\n",
       "      <td>6</td>\n",
       "    </tr>\n",
       "    <tr>\n",
       "      <th>121</th>\n",
       "      <td>Air India</td>\n",
       "      <td>Mumbai</td>\n",
       "      <td>Hyderabad</td>\n",
       "      <td>BOM → HYD</td>\n",
       "      <td>non-stop</td>\n",
       "      <td>No info</td>\n",
       "      <td>3100.0</td>\n",
       "      <td>15</td>\n",
       "      <td>0</td>\n",
       "      <td>1</td>\n",
       "      <td>25</td>\n",
       "      <td>16</td>\n",
       "      <td>25</td>\n",
       "      <td>3</td>\n",
       "      <td>5</td>\n",
       "    </tr>\n",
       "    <tr>\n",
       "      <th>...</th>\n",
       "      <td>...</td>\n",
       "      <td>...</td>\n",
       "      <td>...</td>\n",
       "      <td>...</td>\n",
       "      <td>...</td>\n",
       "      <td>...</td>\n",
       "      <td>...</td>\n",
       "      <td>...</td>\n",
       "      <td>...</td>\n",
       "      <td>...</td>\n",
       "      <td>...</td>\n",
       "      <td>...</td>\n",
       "      <td>...</td>\n",
       "      <td>...</td>\n",
       "      <td>...</td>\n",
       "    </tr>\n",
       "    <tr>\n",
       "      <th>10393</th>\n",
       "      <td>Jet Airways</td>\n",
       "      <td>Mumbai</td>\n",
       "      <td>Hyderabad</td>\n",
       "      <td>BOM → HYD</td>\n",
       "      <td>non-stop</td>\n",
       "      <td>In-flight meal not included</td>\n",
       "      <td>4050.0</td>\n",
       "      <td>7</td>\n",
       "      <td>5</td>\n",
       "      <td>1</td>\n",
       "      <td>25</td>\n",
       "      <td>8</td>\n",
       "      <td>30</td>\n",
       "      <td>18</td>\n",
       "      <td>5</td>\n",
       "    </tr>\n",
       "    <tr>\n",
       "      <th>10398</th>\n",
       "      <td>IndiGo</td>\n",
       "      <td>Mumbai</td>\n",
       "      <td>Hyderabad</td>\n",
       "      <td>BOM → HYD</td>\n",
       "      <td>non-stop</td>\n",
       "      <td>No info</td>\n",
       "      <td>2754.0</td>\n",
       "      <td>2</td>\n",
       "      <td>35</td>\n",
       "      <td>1</td>\n",
       "      <td>30</td>\n",
       "      <td>4</td>\n",
       "      <td>5</td>\n",
       "      <td>27</td>\n",
       "      <td>5</td>\n",
       "    </tr>\n",
       "    <tr>\n",
       "      <th>10435</th>\n",
       "      <td>Jet Airways</td>\n",
       "      <td>Mumbai</td>\n",
       "      <td>Hyderabad</td>\n",
       "      <td>BOM → HYD</td>\n",
       "      <td>non-stop</td>\n",
       "      <td>No info</td>\n",
       "      <td>5678.0</td>\n",
       "      <td>2</td>\n",
       "      <td>55</td>\n",
       "      <td>1</td>\n",
       "      <td>25</td>\n",
       "      <td>4</td>\n",
       "      <td>20</td>\n",
       "      <td>3</td>\n",
       "      <td>5</td>\n",
       "    </tr>\n",
       "    <tr>\n",
       "      <th>10451</th>\n",
       "      <td>Air India</td>\n",
       "      <td>Mumbai</td>\n",
       "      <td>Hyderabad</td>\n",
       "      <td>BOM → HYD</td>\n",
       "      <td>non-stop</td>\n",
       "      <td>No info</td>\n",
       "      <td>3100.0</td>\n",
       "      <td>21</td>\n",
       "      <td>5</td>\n",
       "      <td>1</td>\n",
       "      <td>20</td>\n",
       "      <td>22</td>\n",
       "      <td>25</td>\n",
       "      <td>6</td>\n",
       "      <td>6</td>\n",
       "    </tr>\n",
       "    <tr>\n",
       "      <th>10453</th>\n",
       "      <td>Air India</td>\n",
       "      <td>Mumbai</td>\n",
       "      <td>Hyderabad</td>\n",
       "      <td>BOM → HYD</td>\n",
       "      <td>non-stop</td>\n",
       "      <td>No info</td>\n",
       "      <td>3100.0</td>\n",
       "      <td>6</td>\n",
       "      <td>20</td>\n",
       "      <td>1</td>\n",
       "      <td>20</td>\n",
       "      <td>7</td>\n",
       "      <td>40</td>\n",
       "      <td>9</td>\n",
       "      <td>6</td>\n",
       "    </tr>\n",
       "  </tbody>\n",
       "</table>\n",
       "<p>621 rows × 15 columns</p>\n",
       "</div>"
      ],
      "text/plain": [
       "           Airline  Source Destination      Route Total_Stops  \\\n",
       "67       Air India  Mumbai   Hyderabad  BOM → HYD    non-stop   \n",
       "70     Jet Airways  Mumbai   Hyderabad  BOM → HYD    non-stop   \n",
       "77          IndiGo  Mumbai   Hyderabad  BOM → HYD    non-stop   \n",
       "98     Jet Airways  Mumbai   Hyderabad  BOM → HYD    non-stop   \n",
       "121      Air India  Mumbai   Hyderabad  BOM → HYD    non-stop   \n",
       "...            ...     ...         ...        ...         ...   \n",
       "10393  Jet Airways  Mumbai   Hyderabad  BOM → HYD    non-stop   \n",
       "10398       IndiGo  Mumbai   Hyderabad  BOM → HYD    non-stop   \n",
       "10435  Jet Airways  Mumbai   Hyderabad  BOM → HYD    non-stop   \n",
       "10451    Air India  Mumbai   Hyderabad  BOM → HYD    non-stop   \n",
       "10453    Air India  Mumbai   Hyderabad  BOM → HYD    non-stop   \n",
       "\n",
       "                   Additional_Info   Price  Dep_Time_Hour  Dep_Time_Min  \\\n",
       "67                         No info  3625.0             13            55   \n",
       "70                         No info  5678.0              7             5   \n",
       "77                         No info  4049.0              6            25   \n",
       "98                         No info  8040.0              7             5   \n",
       "121                        No info  3100.0             15             0   \n",
       "...                            ...     ...            ...           ...   \n",
       "10393  In-flight meal not included  4050.0              7             5   \n",
       "10398                      No info  2754.0              2            35   \n",
       "10435                      No info  5678.0              2            55   \n",
       "10451                      No info  3100.0             21             5   \n",
       "10453                      No info  3100.0              6            20   \n",
       "\n",
       "       Dur_Hours  Dur_Minis  Arr_Time_Hour  Arr_Time_Min  DOJ_Day  DOJ_Month  \n",
       "67             1         30             15            25        6          5  \n",
       "70             1         25              8            30        1          6  \n",
       "77             1         30              7            55        3          4  \n",
       "98             1         25              8            30       18          6  \n",
       "121            1         25             16            25        3          5  \n",
       "...          ...        ...            ...           ...      ...        ...  \n",
       "10393          1         25              8            30       18          5  \n",
       "10398          1         30              4             5       27          5  \n",
       "10435          1         25              4            20        3          5  \n",
       "10451          1         20             22            25        6          6  \n",
       "10453          1         20              7            40        9          6  \n",
       "\n",
       "[621 rows x 15 columns]"
      ]
     },
     "execution_count": 31,
     "metadata": {},
     "output_type": "execute_result"
    }
   ],
   "source": [
    "df[df['Dur_Hours'] == min(df['Dur_Hours'])]"
   ]
  },
  {
   "cell_type": "markdown",
   "id": "f1173700",
   "metadata": {},
   "source": [
    "The Shortest flight duration if for Mumbai -> Hydrabad."
   ]
  },
  {
   "cell_type": "markdown",
   "id": "422eac30",
   "metadata": {},
   "source": [
    "## Analysis of Price Variable"
   ]
  },
  {
   "cell_type": "code",
   "execution_count": 32,
   "id": "b7d13a4a",
   "metadata": {
    "scrolled": false
   },
   "outputs": [
    {
     "name": "stdout",
     "output_type": "stream",
     "text": [
      "Skewness of Price is -0.28466839496683355.\n",
      "Kurtosis of Price is -0.5606013164752963.\n"
     ]
    },
    {
     "data": {
      "image/png": "[encoded data removed]",
      "text/plain": [
       "<Figure size 720x720 with 1 Axes>"
      ]
     },
     "metadata": {},
     "output_type": "display_data"
    }
   ],
   "source": [
    "sns.distplot(np.power(df.Price, 1/1000), hist = False, fit = norm, label = 'Distribution of Price')\n",
    "plt.legend()\n",
    "\n",
    "print(f'Skewness of Price is {skew(np.power(df.Price,1/1000))}.')\n",
    "print(f'Kurtosis of Price is {kurtosis(np.power(df.Price,1/1000))}.')"
   ]
  },
  {
   "cell_type": "markdown",
   "id": "661f26a8",
   "metadata": {},
   "source": [
    "### The values of skewness and kurtosis indicate almost normal distribution for Price. "
   ]
  },
  {
   "cell_type": "code",
   "execution_count": 33,
   "id": "d8b9c93d",
   "metadata": {
    "scrolled": false
   },
   "outputs": [
    {
     "data": {
      "text/html": [
       "<div>\n",
       "<style scoped>\n",
       "    .dataframe tbody tr th:only-of-type {\n",
       "        vertical-align: middle;\n",
       "    }\n",
       "\n",
       "    .dataframe tbody tr th {\n",
       "        vertical-align: top;\n",
       "    }\n",
       "\n",
       "    .dataframe thead th {\n",
       "        text-align: right;\n",
       "    }\n",
       "</style>\n",
       "<table border=\"1\" class=\"dataframe\">\n",
       "  <thead>\n",
       "    <tr style=\"text-align: right;\">\n",
       "      <th></th>\n",
       "      <th>Airline</th>\n",
       "      <th>Source</th>\n",
       "      <th>Destination</th>\n",
       "      <th>Route</th>\n",
       "      <th>Total_Stops</th>\n",
       "      <th>Additional_Info</th>\n",
       "      <th>Price</th>\n",
       "      <th>Dep_Time_Hour</th>\n",
       "      <th>Dep_Time_Min</th>\n",
       "      <th>Dur_Hours</th>\n",
       "      <th>Dur_Minis</th>\n",
       "      <th>Arr_Time_Hour</th>\n",
       "      <th>Arr_Time_Min</th>\n",
       "      <th>DOJ_Day</th>\n",
       "      <th>DOJ_Month</th>\n",
       "    </tr>\n",
       "  </thead>\n",
       "  <tbody>\n",
       "    <tr>\n",
       "      <th>0</th>\n",
       "      <td>IndiGo</td>\n",
       "      <td>Banglore</td>\n",
       "      <td>New Delhi</td>\n",
       "      <td>BLR → DEL</td>\n",
       "      <td>non-stop</td>\n",
       "      <td>No info</td>\n",
       "      <td>3.897</td>\n",
       "      <td>22</td>\n",
       "      <td>20</td>\n",
       "      <td>2</td>\n",
       "      <td>50</td>\n",
       "      <td>1</td>\n",
       "      <td>10</td>\n",
       "      <td>24</td>\n",
       "      <td>3</td>\n",
       "    </tr>\n",
       "    <tr>\n",
       "      <th>1</th>\n",
       "      <td>Air India</td>\n",
       "      <td>Kolkata</td>\n",
       "      <td>Banglore</td>\n",
       "      <td>CCU → IXR → BBI → BLR</td>\n",
       "      <td>2 stops</td>\n",
       "      <td>No info</td>\n",
       "      <td>7.662</td>\n",
       "      <td>5</td>\n",
       "      <td>50</td>\n",
       "      <td>7</td>\n",
       "      <td>25</td>\n",
       "      <td>13</td>\n",
       "      <td>15</td>\n",
       "      <td>1</td>\n",
       "      <td>5</td>\n",
       "    </tr>\n",
       "    <tr>\n",
       "      <th>2</th>\n",
       "      <td>Jet Airways</td>\n",
       "      <td>Delhi</td>\n",
       "      <td>Cochin</td>\n",
       "      <td>DEL → LKO → BOM → COK</td>\n",
       "      <td>2 stops</td>\n",
       "      <td>No info</td>\n",
       "      <td>13.882</td>\n",
       "      <td>9</td>\n",
       "      <td>25</td>\n",
       "      <td>19</td>\n",
       "      <td>0</td>\n",
       "      <td>4</td>\n",
       "      <td>25</td>\n",
       "      <td>9</td>\n",
       "      <td>6</td>\n",
       "    </tr>\n",
       "    <tr>\n",
       "      <th>3</th>\n",
       "      <td>IndiGo</td>\n",
       "      <td>Kolkata</td>\n",
       "      <td>Banglore</td>\n",
       "      <td>CCU → NAG → BLR</td>\n",
       "      <td>1 stop</td>\n",
       "      <td>No info</td>\n",
       "      <td>6.218</td>\n",
       "      <td>18</td>\n",
       "      <td>5</td>\n",
       "      <td>5</td>\n",
       "      <td>25</td>\n",
       "      <td>23</td>\n",
       "      <td>30</td>\n",
       "      <td>12</td>\n",
       "      <td>5</td>\n",
       "    </tr>\n",
       "    <tr>\n",
       "      <th>4</th>\n",
       "      <td>IndiGo</td>\n",
       "      <td>Banglore</td>\n",
       "      <td>New Delhi</td>\n",
       "      <td>BLR → NAG → DEL</td>\n",
       "      <td>1 stop</td>\n",
       "      <td>No info</td>\n",
       "      <td>13.302</td>\n",
       "      <td>16</td>\n",
       "      <td>50</td>\n",
       "      <td>4</td>\n",
       "      <td>45</td>\n",
       "      <td>21</td>\n",
       "      <td>35</td>\n",
       "      <td>1</td>\n",
       "      <td>3</td>\n",
       "    </tr>\n",
       "    <tr>\n",
       "      <th>...</th>\n",
       "      <td>...</td>\n",
       "      <td>...</td>\n",
       "      <td>...</td>\n",
       "      <td>...</td>\n",
       "      <td>...</td>\n",
       "      <td>...</td>\n",
       "      <td>...</td>\n",
       "      <td>...</td>\n",
       "      <td>...</td>\n",
       "      <td>...</td>\n",
       "      <td>...</td>\n",
       "      <td>...</td>\n",
       "      <td>...</td>\n",
       "      <td>...</td>\n",
       "      <td>...</td>\n",
       "    </tr>\n",
       "    <tr>\n",
       "      <th>10456</th>\n",
       "      <td>Air Asia</td>\n",
       "      <td>Kolkata</td>\n",
       "      <td>Banglore</td>\n",
       "      <td>CCU → BLR</td>\n",
       "      <td>non-stop</td>\n",
       "      <td>No info</td>\n",
       "      <td>4.107</td>\n",
       "      <td>19</td>\n",
       "      <td>55</td>\n",
       "      <td>2</td>\n",
       "      <td>30</td>\n",
       "      <td>22</td>\n",
       "      <td>25</td>\n",
       "      <td>9</td>\n",
       "      <td>4</td>\n",
       "    </tr>\n",
       "    <tr>\n",
       "      <th>10457</th>\n",
       "      <td>Air India</td>\n",
       "      <td>Kolkata</td>\n",
       "      <td>Banglore</td>\n",
       "      <td>CCU → BLR</td>\n",
       "      <td>non-stop</td>\n",
       "      <td>No info</td>\n",
       "      <td>4.145</td>\n",
       "      <td>20</td>\n",
       "      <td>45</td>\n",
       "      <td>2</td>\n",
       "      <td>35</td>\n",
       "      <td>23</td>\n",
       "      <td>20</td>\n",
       "      <td>27</td>\n",
       "      <td>4</td>\n",
       "    </tr>\n",
       "    <tr>\n",
       "      <th>10458</th>\n",
       "      <td>Jet Airways</td>\n",
       "      <td>Banglore</td>\n",
       "      <td>Delhi</td>\n",
       "      <td>BLR → DEL</td>\n",
       "      <td>non-stop</td>\n",
       "      <td>No info</td>\n",
       "      <td>7.229</td>\n",
       "      <td>8</td>\n",
       "      <td>20</td>\n",
       "      <td>3</td>\n",
       "      <td>0</td>\n",
       "      <td>11</td>\n",
       "      <td>20</td>\n",
       "      <td>27</td>\n",
       "      <td>4</td>\n",
       "    </tr>\n",
       "    <tr>\n",
       "      <th>10459</th>\n",
       "      <td>Vistara</td>\n",
       "      <td>Banglore</td>\n",
       "      <td>New Delhi</td>\n",
       "      <td>BLR → DEL</td>\n",
       "      <td>non-stop</td>\n",
       "      <td>No info</td>\n",
       "      <td>12.648</td>\n",
       "      <td>11</td>\n",
       "      <td>30</td>\n",
       "      <td>2</td>\n",
       "      <td>40</td>\n",
       "      <td>14</td>\n",
       "      <td>10</td>\n",
       "      <td>1</td>\n",
       "      <td>3</td>\n",
       "    </tr>\n",
       "    <tr>\n",
       "      <th>10460</th>\n",
       "      <td>Air India</td>\n",
       "      <td>Delhi</td>\n",
       "      <td>Cochin</td>\n",
       "      <td>DEL → GOI → BOM → COK</td>\n",
       "      <td>2 stops</td>\n",
       "      <td>No info</td>\n",
       "      <td>11.753</td>\n",
       "      <td>10</td>\n",
       "      <td>55</td>\n",
       "      <td>8</td>\n",
       "      <td>20</td>\n",
       "      <td>19</td>\n",
       "      <td>15</td>\n",
       "      <td>9</td>\n",
       "      <td>5</td>\n",
       "    </tr>\n",
       "  </tbody>\n",
       "</table>\n",
       "<p>10461 rows × 15 columns</p>\n",
       "</div>"
      ],
      "text/plain": [
       "           Airline    Source Destination                  Route Total_Stops  \\\n",
       "0           IndiGo  Banglore   New Delhi              BLR → DEL    non-stop   \n",
       "1        Air India   Kolkata    Banglore  CCU → IXR → BBI → BLR     2 stops   \n",
       "2      Jet Airways     Delhi      Cochin  DEL → LKO → BOM → COK     2 stops   \n",
       "3           IndiGo   Kolkata    Banglore        CCU → NAG → BLR      1 stop   \n",
       "4           IndiGo  Banglore   New Delhi        BLR → NAG → DEL      1 stop   \n",
       "...            ...       ...         ...                    ...         ...   \n",
       "10456     Air Asia   Kolkata    Banglore              CCU → BLR    non-stop   \n",
       "10457    Air India   Kolkata    Banglore              CCU → BLR    non-stop   \n",
       "10458  Jet Airways  Banglore       Delhi              BLR → DEL    non-stop   \n",
       "10459      Vistara  Banglore   New Delhi              BLR → DEL    non-stop   \n",
       "10460    Air India     Delhi      Cochin  DEL → GOI → BOM → COK     2 stops   \n",
       "\n",
       "      Additional_Info   Price  Dep_Time_Hour  Dep_Time_Min  Dur_Hours  \\\n",
       "0             No info   3.897             22            20          2   \n",
       "1             No info   7.662              5            50          7   \n",
       "2             No info  13.882              9            25         19   \n",
       "3             No info   6.218             18             5          5   \n",
       "4             No info  13.302             16            50          4   \n",
       "...               ...     ...            ...           ...        ...   \n",
       "10456         No info   4.107             19            55          2   \n",
       "10457         No info   4.145             20            45          2   \n",
       "10458         No info   7.229              8            20          3   \n",
       "10459         No info  12.648             11            30          2   \n",
       "10460         No info  11.753             10            55          8   \n",
       "\n",
       "       Dur_Minis  Arr_Time_Hour  Arr_Time_Min  DOJ_Day  DOJ_Month  \n",
       "0             50              1            10       24          3  \n",
       "1             25             13            15        1          5  \n",
       "2              0              4            25        9          6  \n",
       "3             25             23            30       12          5  \n",
       "4             45             21            35        1          3  \n",
       "...          ...            ...           ...      ...        ...  \n",
       "10456         30             22            25        9          4  \n",
       "10457         35             23            20       27          4  \n",
       "10458          0             11            20       27          4  \n",
       "10459         40             14            10        1          3  \n",
       "10460         20             19            15        9          5  \n",
       "\n",
       "[10461 rows x 15 columns]"
      ]
     },
     "execution_count": 33,
     "metadata": {},
     "output_type": "execute_result"
    }
   ],
   "source": [
    "df['Price'] = df['Price']/1000\n",
    "df"
   ]
  },
  {
   "cell_type": "code",
   "execution_count": 34,
   "id": "01d01a3c",
   "metadata": {
    "scrolled": false
   },
   "outputs": [
    {
     "data": {
      "image/png": "[encoded data removed]",
      "text/plain": [
       "<Figure size 720x720 with 1 Axes>"
      ]
     },
     "metadata": {},
     "output_type": "display_data"
    }
   ],
   "source": [
    "plt.boxplot(df['Price'])\n",
    "\n",
    "plt.show()"
   ]
  },
  {
   "cell_type": "markdown",
   "id": "62ca0c70",
   "metadata": {},
   "source": [
    "### Variation of Price with categorical variables"
   ]
  },
  {
   "cell_type": "markdown",
   "id": "7d4cf845",
   "metadata": {},
   "source": [
    "#### (1) Price vs Airline"
   ]
  },
  {
   "cell_type": "code",
   "execution_count": 35,
   "id": "ed7ba560",
   "metadata": {},
   "outputs": [
    {
     "data": {
      "image/png": "[encoded data removed]",
      "text/plain": [
       "<Figure size 720x720 with 1 Axes>"
      ]
     },
     "metadata": {},
     "output_type": "display_data"
    }
   ],
   "source": [
    "sns.boxplot(y = 'Price', x = 'Airline', data = df)\n",
    "plt.xticks(rotation=90)\n",
    "plt.axhline(y = np.mean(df['Price']),label='Mean Price')\n",
    "plt.legend()\n",
    "plt.show()"
   ]
  },
  {
   "cell_type": "markdown",
   "id": "66009a93",
   "metadata": {},
   "source": [
    "Highest ticket price is for Jet Airways. All airlines except Jet Airways have a mean price lying between 0 to 20 (factored by 1000). Also we see equal number of airlines having mean Price greater than and less than the overall mean Prices."
   ]
  },
  {
   "cell_type": "markdown",
   "id": "620e8500",
   "metadata": {},
   "source": [
    "#### (2) Price vs Source/Destination"
   ]
  },
  {
   "cell_type": "code",
   "execution_count": 36,
   "id": "1aa33671",
   "metadata": {},
   "outputs": [
    {
     "data": {
      "image/png": "[encoded data removed]",
      "text/plain": [
       "<Figure size 720x720 with 2 Axes>"
      ]
     },
     "metadata": {},
     "output_type": "display_data"
    }
   ],
   "source": [
    "plt.subplot(121)\n",
    "sns.boxplot(y = 'Price', x = 'Source', data = df)\n",
    "plt.axhline(y=np.mean(df['Price']),label='Mean Price')\n",
    "plt.legend()\n",
    "plt.xticks(rotation=90)\n",
    "\n",
    "plt.subplot(122)\n",
    "sns.boxplot(y = 'Price', x = 'Destination', data = df)\n",
    "plt.axhline(y=np.mean(df['Price']),label='Mean Price')\n",
    "plt.legend()\n",
    "plt.xticks(rotation=90)\n",
    "\n",
    "plt.show()"
   ]
  },
  {
   "cell_type": "markdown",
   "id": "2d0c2d83",
   "metadata": {},
   "source": [
    "For Source column, the highest mean price is for Delhi while the lowest is for Mumbai. Also for the Destination column, the highest mean price is for Delhi/New Delhi while the lowest is for Hydrabad."
   ]
  },
  {
   "cell_type": "markdown",
   "id": "238203ff",
   "metadata": {},
   "source": [
    "#### (3) Price vs Total Stops"
   ]
  },
  {
   "cell_type": "code",
   "execution_count": 37,
   "id": "326e324a",
   "metadata": {},
   "outputs": [
    {
     "data": {
      "image/png": "[encoded data removed]",
      "text/plain": [
       "<Figure size 720x720 with 1 Axes>"
      ]
     },
     "metadata": {},
     "output_type": "display_data"
    }
   ],
   "source": [
    "sns.boxplot(y = 'Price', x = 'Total_Stops', data = df)\n",
    "plt.xticks(rotation=90)\n",
    "plt.axhline(y=np.mean(df['Price']),label='Mean Price')\n",
    "plt.legend()\n",
    "plt.show()"
   ]
  },
  {
   "cell_type": "markdown",
   "id": "ac4abc66",
   "metadata": {},
   "source": [
    "For the total_stops column of the data, the maximum total price is that for 1 stop flights while the lowest is for non-stop flights. However, the maximum mean price is that of 2 stop flights while the lowest is again for non-stop flights."
   ]
  },
  {
   "cell_type": "markdown",
   "id": "e457a408",
   "metadata": {},
   "source": [
    "#### (4) Price vs Duration (hours)"
   ]
  },
  {
   "cell_type": "code",
   "execution_count": 38,
   "id": "a2c0ea6e",
   "metadata": {},
   "outputs": [
    {
     "data": {
      "image/png": "[encoded data removed]",
      "text/plain": [
       "<Figure size 720x720 with 1 Axes>"
      ]
     },
     "metadata": {},
     "output_type": "display_data"
    }
   ],
   "source": [
    "sns.boxplot(y = 'Price', x = 'Dur_Hours', data = df)\n",
    "plt.xticks(rotation=90)\n",
    "plt.axhline(y=np.mean(df['Price']),label='Mean Price')\n",
    "plt.legend()\n",
    "plt.show()"
   ]
  },
  {
   "cell_type": "markdown",
   "id": "020a548d",
   "metadata": {},
   "source": [
    "It is clear that flights with a duration of more than 38 hours are rare. Also, as the duration of the flight increases, the price also changes, reaching a peak value at 7 hours and at the lowest at 1 hour flight duration."
   ]
  },
  {
   "cell_type": "markdown",
   "id": "e46d18ff",
   "metadata": {},
   "source": [
    "#### (5) Price vs Departure (hours)"
   ]
  },
  {
   "cell_type": "code",
   "execution_count": 39,
   "id": "4718d8b4",
   "metadata": {},
   "outputs": [
    {
     "data": {
      "image/png": "[encoded data removed]",
      "text/plain": [
       "<Figure size 720x720 with 1 Axes>"
      ]
     },
     "metadata": {},
     "output_type": "display_data"
    }
   ],
   "source": [
    "sns.boxplot(y = 'Price', x = 'Dep_Time_Hour', data = df)\n",
    "plt.xticks(rotation=90)\n",
    "plt.axhline(y=np.mean(df['Price']),label='Mean Price')\n",
    "plt.legend()\n",
    "plt.show()"
   ]
  },
  {
   "cell_type": "markdown",
   "id": "2f8312e9",
   "metadata": {},
   "source": [
    "It is clear from above that flights departing early in the morning and late at night have lower prices compared to the flights departing inbetween."
   ]
  },
  {
   "cell_type": "markdown",
   "id": "ba9905d1",
   "metadata": {},
   "source": [
    "#### (6) Price vs Arrival (hours)"
   ]
  },
  {
   "cell_type": "code",
   "execution_count": 40,
   "id": "5b686425",
   "metadata": {},
   "outputs": [
    {
     "data": {
      "image/png": "[encoded data removed]",
      "text/plain": [
       "<Figure size 720x720 with 1 Axes>"
      ]
     },
     "metadata": {},
     "output_type": "display_data"
    }
   ],
   "source": [
    "sns.boxplot(y = 'Price', x = 'Arr_Time_Hour', data = df)\n",
    "plt.axhline(y=np.mean(df['Price']),label='Mean Price')\n",
    "plt.xticks(rotation=90)\n",
    "plt.legend()\n",
    "plt.show()"
   ]
  },
  {
   "cell_type": "markdown",
   "id": "6a7eb872",
   "metadata": {},
   "source": [
    "Flights with ealy morning and late night arrival timings have a lower mean Price."
   ]
  },
  {
   "cell_type": "markdown",
   "id": "61f350f8",
   "metadata": {},
   "source": [
    "#### (7) Price vs DOJ_Day"
   ]
  },
  {
   "cell_type": "code",
   "execution_count": 41,
   "id": "aeb58ef9",
   "metadata": {},
   "outputs": [
    {
     "data": {
      "image/png": "[encoded data removed]",
      "text/plain": [
       "<Figure size 720x720 with 1 Axes>"
      ]
     },
     "metadata": {},
     "output_type": "display_data"
    }
   ],
   "source": [
    "sns.boxplot(y = 'Price', x = 'DOJ_Day', data = df)\n",
    "plt.axhline(y=np.mean(df['Price']),label='Mean Price')\n",
    "plt.xticks(rotation=90)\n",
    "plt.legend()\n",
    "plt.show()"
   ]
  },
  {
   "cell_type": "markdown",
   "id": "64fa4eeb",
   "metadata": {},
   "source": [
    "Except a few days, alomost all the days the median flight prices were lower than the mean."
   ]
  },
  {
   "cell_type": "markdown",
   "id": "a2302d0d",
   "metadata": {},
   "source": [
    "#### (8) Price vs DOJ_Month"
   ]
  },
  {
   "cell_type": "code",
   "execution_count": 42,
   "id": "a4bc117b",
   "metadata": {},
   "outputs": [
    {
     "data": {
      "image/png": "[encoded data removed]",
      "text/plain": [
       "<Figure size 720x720 with 1 Axes>"
      ]
     },
     "metadata": {},
     "output_type": "display_data"
    }
   ],
   "source": [
    "sns.boxplot(y = 'Price', x = 'DOJ_Month', data = df)\n",
    "plt.axhline(y=np.mean(df['Price']),label='Mean Price')\n",
    "plt.xticks(rotation=90)\n",
    "plt.legend()\n",
    "plt.show()"
   ]
  },
  {
   "cell_type": "markdown",
   "id": "572e2ca1",
   "metadata": {},
   "source": [
    "For March,May and June the value of median price is almost equal to the mean price while for April it is way lower compared to the mean."
   ]
  },
  {
   "cell_type": "markdown",
   "id": "ce8e4bfb",
   "metadata": {},
   "source": [
    "#### (9) Price vs Additional Info"
   ]
  },
  {
   "cell_type": "code",
   "execution_count": 43,
   "id": "5d62453d",
   "metadata": {},
   "outputs": [
    {
     "data": {
      "image/png": "[encoded data removed]",
      "text/plain": [
       "<Figure size 720x720 with 1 Axes>"
      ]
     },
     "metadata": {},
     "output_type": "display_data"
    }
   ],
   "source": [
    "sns.boxplot(y = 'Price', x = 'Additional_Info', data = df)\n",
    "plt.xticks(rotation=90)\n",
    "plt.axhline(y = np.mean(df['Price']),label='Mean Price')\n",
    "plt.legend()\n",
    "plt.show()"
   ]
  },
  {
   "cell_type": "markdown",
   "id": "e6b9e4b0",
   "metadata": {},
   "source": [
    "## Encoding of Categorical Variables"
   ]
  },
  {
   "cell_type": "code",
   "execution_count": 44,
   "id": "36decf98",
   "metadata": {
    "scrolled": false
   },
   "outputs": [
    {
     "name": "stdout",
     "output_type": "stream",
     "text": [
      "Number of unique entries in Airline: 12\n",
      "Number of unique entries in Source: 5\n",
      "Number of unique entries in Destination: 6\n",
      "Number of unique entries in Total_Stops: 5\n",
      "Number of unique entries in Additional_Info: 10\n",
      "Number of unique entries in Route: 128\n"
     ]
    }
   ],
   "source": [
    "l_cat = ['Airline','Source','Destination','Total_Stops','Additional_Info','Route']\n",
    "\n",
    "for i in l_cat:\n",
    "    print(f'Number of unique entries in {i}: {len(df[i].unique())}')"
   ]
  },
  {
   "cell_type": "code",
   "execution_count": 45,
   "id": "81044497",
   "metadata": {
    "scrolled": false
   },
   "outputs": [
    {
     "name": "stdout",
     "output_type": "stream",
     "text": [
      "In Airline:\n",
      " \n",
      "IndiGo will be replaced by 2043.\n",
      "Air India will be replaced by 1693.\n",
      "Jet Airways will be replaced by 3700.\n",
      "SpiceJet will be replaced by 815.\n",
      "Multiple carriers will be replaced by 1196.\n",
      "GoAir will be replaced by 194.\n",
      "Vistara will be replaced by 478.\n",
      "Air Asia will be replaced by 319.\n",
      "Vistara Premium economy will be replaced by 3.\n",
      "Jet Airways Business will be replaced by 6.\n",
      "Multiple carriers Premium economy will be replaced by 13.\n",
      "Trujet will be replaced by 1.\n",
      "\n",
      "\n",
      "In Source:\n",
      " \n",
      "Banglore will be replaced by 2179.\n",
      "Kolkata will be replaced by 2860.\n",
      "Delhi will be replaced by 4345.\n",
      "Chennai will be replaced by 381.\n",
      "Mumbai will be replaced by 696.\n",
      "\n",
      "\n",
      "In Destination:\n",
      " \n",
      "New Delhi will be replaced by 914.\n",
      "Banglore will be replaced by 2860.\n",
      "Cochin will be replaced by 4345.\n",
      "Kolkata will be replaced by 381.\n",
      "Delhi will be replaced by 1265.\n",
      "Hyderabad will be replaced by 696.\n",
      "\n",
      "\n",
      "In Total_Stops:\n",
      " \n",
      "non-stop will be replaced by 3475.\n",
      "2 stops will be replaced by 1317.\n",
      "1 stop will be replaced by 5625.\n",
      "3 stops will be replaced by 43.\n",
      "4 stops will be replaced by 1.\n",
      "\n",
      "\n",
      "In Additional_Info:\n",
      " \n",
      "No info will be replaced by 8181.\n",
      "In-flight meal not included will be replaced by 1926.\n",
      "No check-in baggage included will be replaced by 318.\n",
      "1 Short layover will be replaced by 1.\n",
      "No Info will be replaced by 3.\n",
      "1 Long layover will be replaced by 19.\n",
      "Change airports will be replaced by 7.\n",
      "Business class will be replaced by 4.\n",
      "Red-eye flight will be replaced by 1.\n",
      "2 Long layover will be replaced by 1.\n",
      "\n",
      "\n",
      "In Route:\n",
      " \n",
      "BLR → DEL will be replaced by 1536.\n",
      "CCU → IXR → BBI → BLR will be replaced by 6.\n",
      "DEL → LKO → BOM → COK will be replaced by 41.\n",
      "CCU → NAG → BLR will be replaced by 9.\n",
      "BLR → NAG → DEL will be replaced by 3.\n",
      "CCU → BLR will be replaced by 724.\n",
      "BLR → BOM → DEL will be replaced by 402.\n",
      "DEL → BOM → COK will be replaced by 2376.\n",
      "DEL → BLR → COK will be replaced by 232.\n",
      "MAA → CCU will be replaced by 381.\n",
      "CCU → BOM → BLR will be replaced by 979.\n",
      "DEL → AMD → BOM → COK will be replaced by 144.\n",
      "DEL → PNQ → COK will be replaced by 42.\n",
      "DEL → CCU → BOM → COK will be replaced by 44.\n",
      "BLR → COK → DEL will be replaced by 15.\n",
      "DEL → IDR → BOM → COK will be replaced by 90.\n",
      "DEL → LKO → COK will be replaced by 17.\n",
      "CCU → GAU → DEL → BLR will be replaced by 38.\n",
      "DEL → NAG → BOM → COK will be replaced by 44.\n",
      "CCU → MAA → BLR will be replaced by 65.\n",
      "DEL → HYD → COK will be replaced by 326.\n",
      "CCU → HYD → BLR will be replaced by 53.\n",
      "DEL → COK will be replaced by 213.\n",
      "CCU → DEL → BLR will be replaced by 565.\n",
      "BLR → BOM → AMD → DEL will be replaced by 4.\n",
      "BOM → DEL → HYD will be replaced by 33.\n",
      "DEL → MAA → COK will be replaced by 146.\n",
      "BOM → HYD will be replaced by 621.\n",
      "DEL → BHO → BOM → COK will be replaced by 48.\n",
      "DEL → JAI → BOM → COK will be replaced by 183.\n",
      "DEL → ATQ → BOM → COK will be replaced by 40.\n",
      "DEL → JDH → BOM → COK will be replaced by 37.\n",
      "CCU → BBI → BOM → BLR will be replaced by 42.\n",
      "BLR → MAA → DEL will be replaced by 29.\n",
      "DEL → GOI → BOM → COK will be replaced by 44.\n",
      "DEL → BDQ → BOM → COK will be replaced by 27.\n",
      "CCU → JAI → BOM → BLR will be replaced by 13.\n",
      "CCU → BBI → BLR will be replaced by 50.\n",
      "BLR → HYD → DEL will be replaced by 37.\n",
      "DEL → TRV → COK will be replaced by 16.\n",
      "CCU → IXR → DEL → BLR will be replaced by 46.\n",
      "DEL → IXU → BOM → COK will be replaced by 12.\n",
      "CCU → IXB → BLR will be replaced by 20.\n",
      "BLR → BOM → JDH → DEL will be replaced by 6.\n",
      "DEL → UDR → BOM → COK will be replaced by 18.\n",
      "DEL → HYD → MAA → COK will be replaced by 83.\n",
      "CCU → BOM → COK → BLR will be replaced by 30.\n",
      "BLR → CCU → DEL will be replaced by 11.\n",
      "CCU → BOM → GOI → BLR will be replaced by 13.\n",
      "DEL → RPR → NAG → BOM → COK will be replaced by 15.\n",
      "DEL → HYD → BOM → COK will be replaced by 45.\n",
      "CCU → DEL → AMD → BLR will be replaced by 21.\n",
      "CCU → PNQ → BLR will be replaced by 19.\n",
      "BLR → CCU → GAU → DEL will be replaced by 11.\n",
      "CCU → DEL → COK → BLR will be replaced by 29.\n",
      "BLR → PNQ → DEL will be replaced by 5.\n",
      "BOM → JDH → DEL → HYD will be replaced by 3.\n",
      "BLR → BOM → BHO → DEL will be replaced by 11.\n",
      "DEL → AMD → COK will be replaced by 25.\n",
      "BLR → LKO → DEL will be replaced by 3.\n",
      "CCU → GAU → BLR will be replaced by 41.\n",
      "BOM → GOI → HYD will be replaced by 1.\n",
      "CCU → BOM → AMD → BLR will be replaced by 9.\n",
      "CCU → BBI → IXR → DEL → BLR will be replaced by 2.\n",
      "DEL → DED → BOM → COK will be replaced by 2.\n",
      "DEL → MAA → BOM → COK will be replaced by 11.\n",
      "BLR → AMD → DEL will be replaced by 18.\n",
      "BLR → VGA → DEL will be replaced by 9.\n",
      "CCU → JAI → DEL → BLR will be replaced by 6.\n",
      "CCU → AMD → BLR will be replaced by 11.\n",
      "CCU → VNS → DEL → BLR will be replaced by 10.\n",
      "BLR → BOM → IDR → DEL will be replaced by 5.\n",
      "BLR → BBI → DEL will be replaced by 5.\n",
      "BLR → GOI → DEL will be replaced by 7.\n",
      "BOM → AMD → ISK → HYD will be replaced by 4.\n",
      "BOM → DED → DEL → HYD will be replaced by 1.\n",
      "DEL → IXC → BOM → COK will be replaced by 11.\n",
      "CCU → PAT → BLR will be replaced by 10.\n",
      "BLR → CCU → BBI → DEL will be replaced by 5.\n",
      "CCU → BBI → HYD → BLR will be replaced by 9.\n",
      "BLR → BOM → NAG → DEL will be replaced by 9.\n",
      "BLR → CCU → BBI → HYD → DEL will be replaced by 2.\n",
      "BLR → GAU → DEL will be replaced by 3.\n",
      "BOM → BHO → DEL → HYD will be replaced by 7.\n",
      "BOM → JLR → HYD will be replaced by 1.\n",
      "BLR → HYD → VGA → DEL will be replaced by 10.\n",
      "CCU → KNU → BLR will be replaced by 10.\n",
      "CCU → BOM → PNQ → BLR will be replaced by 4.\n",
      "DEL → BBI → COK will be replaced by 5.\n",
      "BLR → VGA → HYD → DEL will be replaced by 4.\n",
      "BOM → JDH → JAI → DEL → HYD will be replaced by 1.\n",
      "DEL → GWL → IDR → BOM → COK will be replaced by 8.\n",
      "CCU → RPR → HYD → BLR will be replaced by 1.\n",
      "CCU → VTZ → BLR will be replaced by 1.\n",
      "CCU → DEL → VGA → BLR will be replaced by 4.\n",
      "BLR → BOM → IDR → GWL → DEL will be replaced by 2.\n",
      "CCU → DEL → COK → TRV → BLR will be replaced by 4.\n",
      "BOM → COK → MAA → HYD will be replaced by 1.\n",
      "BOM → NDC → HYD will be replaced by 1.\n",
      "BLR → BDQ → DEL will be replaced by 8.\n",
      "CCU → BOM → TRV → BLR will be replaced by 2.\n",
      "CCU → BOM → HBX → BLR will be replaced by 6.\n",
      "BOM → BDQ → DEL → HYD will be replaced by 2.\n",
      "BOM → CCU → HYD will be replaced by 1.\n",
      "BLR → TRV → COK → DEL will be replaced by 2.\n",
      "BLR → IDR → DEL will be replaced by 5.\n",
      "CCU → IXZ → MAA → BLR will be replaced by 1.\n",
      "CCU → GAU → IMF → DEL → BLR will be replaced by 5.\n",
      "BOM → GOI → PNQ → HYD will be replaced by 5.\n",
      "BOM → BLR → CCU → BBI → HYD will be replaced by 1.\n",
      "BOM → MAA → HYD will be replaced by 3.\n",
      "BLR → BOM → UDR → DEL will be replaced by 3.\n",
      "BOM → UDR → DEL → HYD will be replaced by 1.\n",
      "BLR → VGA → VTZ → DEL will be replaced by 2.\n",
      "BLR → HBX → BOM → BHO → DEL will be replaced by 1.\n",
      "CCU → IXA → BLR will be replaced by 1.\n",
      "BOM → RPR → VTZ → HYD will be replaced by 1.\n",
      "BLR → HBX → BOM → AMD → DEL will be replaced by 1.\n",
      "BOM → IDR → DEL → HYD will be replaced by 2.\n",
      "BOM → BLR → HYD will be replaced by 3.\n",
      "BLR → STV → DEL will be replaced by 2.\n",
      "CCU → IXB → DEL → BLR will be replaced by 1.\n",
      "BOM → JAI → DEL → HYD will be replaced by 1.\n",
      "BOM → VNS → DEL → HYD will be replaced by 1.\n",
      "BLR → HBX → BOM → NAG → DEL will be replaced by 1.\n",
      "BLR → BOM → IXC → DEL will be replaced by 1.\n",
      "BLR → CCU → BBI → HYD → VGA → DEL will be replaced by 1.\n",
      "BOM → BBI → HYD will be replaced by 1.\n",
      "\n",
      "\n"
     ]
    }
   ],
   "source": [
    "for o in l_cat:\n",
    "    print(f'In {o}:\\n ')\n",
    "    for p in df[o].unique():\n",
    "        print(f'{p} will be replaced by {len(df[o][df[o] == p])}.')\n",
    "    print('\\n')"
   ]
  },
  {
   "cell_type": "code",
   "execution_count": 46,
   "id": "9975ba24",
   "metadata": {},
   "outputs": [],
   "source": [
    "# Performing Frequency Encoding.\n",
    "\n",
    "for r in ['Airline','Source','Destination','Additional_Info','Total_Stops','Route']:\n",
    "    \n",
    "    d_k = list(dict(df[r].value_counts()).keys())\n",
    "    d_v = list(dict(df[r].value_counts()).values())\n",
    "\n",
    "    c = 1\n",
    "    i = 0\n",
    "\n",
    "    while c <= len(d_k):\n",
    "        df[r] = df[r].replace(d_k[i], d_v[i])\n",
    "        c += 1\n",
    "        i += 1"
   ]
  },
  {
   "cell_type": "code",
   "execution_count": 47,
   "id": "d86e1755",
   "metadata": {},
   "outputs": [
    {
     "data": {
      "text/html": [
       "<div>\n",
       "<style scoped>\n",
       "    .dataframe tbody tr th:only-of-type {\n",
       "        vertical-align: middle;\n",
       "    }\n",
       "\n",
       "    .dataframe tbody tr th {\n",
       "        vertical-align: top;\n",
       "    }\n",
       "\n",
       "    .dataframe thead th {\n",
       "        text-align: right;\n",
       "    }\n",
       "</style>\n",
       "<table border=\"1\" class=\"dataframe\">\n",
       "  <thead>\n",
       "    <tr style=\"text-align: right;\">\n",
       "      <th></th>\n",
       "      <th>Airline</th>\n",
       "      <th>Source</th>\n",
       "      <th>Destination</th>\n",
       "      <th>Route</th>\n",
       "      <th>Total_Stops</th>\n",
       "      <th>Additional_Info</th>\n",
       "      <th>Price</th>\n",
       "      <th>Dep_Time_Hour</th>\n",
       "      <th>Dep_Time_Min</th>\n",
       "      <th>Dur_Hours</th>\n",
       "      <th>Dur_Minis</th>\n",
       "      <th>Arr_Time_Hour</th>\n",
       "      <th>Arr_Time_Min</th>\n",
       "      <th>DOJ_Day</th>\n",
       "      <th>DOJ_Month</th>\n",
       "    </tr>\n",
       "  </thead>\n",
       "  <tbody>\n",
       "    <tr>\n",
       "      <th>0</th>\n",
       "      <td>2043</td>\n",
       "      <td>2179</td>\n",
       "      <td>914</td>\n",
       "      <td>1536</td>\n",
       "      <td>3475</td>\n",
       "      <td>8181</td>\n",
       "      <td>3.897</td>\n",
       "      <td>22</td>\n",
       "      <td>20</td>\n",
       "      <td>2</td>\n",
       "      <td>50</td>\n",
       "      <td>1</td>\n",
       "      <td>10</td>\n",
       "      <td>24</td>\n",
       "      <td>3</td>\n",
       "    </tr>\n",
       "    <tr>\n",
       "      <th>1</th>\n",
       "      <td>1693</td>\n",
       "      <td>2860</td>\n",
       "      <td>2860</td>\n",
       "      <td>6</td>\n",
       "      <td>1317</td>\n",
       "      <td>8181</td>\n",
       "      <td>7.662</td>\n",
       "      <td>5</td>\n",
       "      <td>50</td>\n",
       "      <td>7</td>\n",
       "      <td>25</td>\n",
       "      <td>13</td>\n",
       "      <td>15</td>\n",
       "      <td>1</td>\n",
       "      <td>5</td>\n",
       "    </tr>\n",
       "    <tr>\n",
       "      <th>2</th>\n",
       "      <td>3700</td>\n",
       "      <td>4345</td>\n",
       "      <td>4345</td>\n",
       "      <td>41</td>\n",
       "      <td>1317</td>\n",
       "      <td>8181</td>\n",
       "      <td>13.882</td>\n",
       "      <td>9</td>\n",
       "      <td>25</td>\n",
       "      <td>19</td>\n",
       "      <td>0</td>\n",
       "      <td>4</td>\n",
       "      <td>25</td>\n",
       "      <td>9</td>\n",
       "      <td>6</td>\n",
       "    </tr>\n",
       "    <tr>\n",
       "      <th>3</th>\n",
       "      <td>2043</td>\n",
       "      <td>2860</td>\n",
       "      <td>2860</td>\n",
       "      <td>9</td>\n",
       "      <td>5625</td>\n",
       "      <td>8181</td>\n",
       "      <td>6.218</td>\n",
       "      <td>18</td>\n",
       "      <td>5</td>\n",
       "      <td>5</td>\n",
       "      <td>25</td>\n",
       "      <td>23</td>\n",
       "      <td>30</td>\n",
       "      <td>12</td>\n",
       "      <td>5</td>\n",
       "    </tr>\n",
       "    <tr>\n",
       "      <th>4</th>\n",
       "      <td>2043</td>\n",
       "      <td>2179</td>\n",
       "      <td>914</td>\n",
       "      <td>3</td>\n",
       "      <td>5625</td>\n",
       "      <td>8181</td>\n",
       "      <td>13.302</td>\n",
       "      <td>16</td>\n",
       "      <td>50</td>\n",
       "      <td>4</td>\n",
       "      <td>45</td>\n",
       "      <td>21</td>\n",
       "      <td>35</td>\n",
       "      <td>1</td>\n",
       "      <td>3</td>\n",
       "    </tr>\n",
       "    <tr>\n",
       "      <th>...</th>\n",
       "      <td>...</td>\n",
       "      <td>...</td>\n",
       "      <td>...</td>\n",
       "      <td>...</td>\n",
       "      <td>...</td>\n",
       "      <td>...</td>\n",
       "      <td>...</td>\n",
       "      <td>...</td>\n",
       "      <td>...</td>\n",
       "      <td>...</td>\n",
       "      <td>...</td>\n",
       "      <td>...</td>\n",
       "      <td>...</td>\n",
       "      <td>...</td>\n",
       "      <td>...</td>\n",
       "    </tr>\n",
       "    <tr>\n",
       "      <th>10456</th>\n",
       "      <td>319</td>\n",
       "      <td>2860</td>\n",
       "      <td>2860</td>\n",
       "      <td>724</td>\n",
       "      <td>3475</td>\n",
       "      <td>8181</td>\n",
       "      <td>4.107</td>\n",
       "      <td>19</td>\n",
       "      <td>55</td>\n",
       "      <td>2</td>\n",
       "      <td>30</td>\n",
       "      <td>22</td>\n",
       "      <td>25</td>\n",
       "      <td>9</td>\n",
       "      <td>4</td>\n",
       "    </tr>\n",
       "    <tr>\n",
       "      <th>10457</th>\n",
       "      <td>1693</td>\n",
       "      <td>2860</td>\n",
       "      <td>2860</td>\n",
       "      <td>724</td>\n",
       "      <td>3475</td>\n",
       "      <td>8181</td>\n",
       "      <td>4.145</td>\n",
       "      <td>20</td>\n",
       "      <td>45</td>\n",
       "      <td>2</td>\n",
       "      <td>35</td>\n",
       "      <td>23</td>\n",
       "      <td>20</td>\n",
       "      <td>27</td>\n",
       "      <td>4</td>\n",
       "    </tr>\n",
       "    <tr>\n",
       "      <th>10458</th>\n",
       "      <td>3700</td>\n",
       "      <td>2179</td>\n",
       "      <td>1265</td>\n",
       "      <td>1536</td>\n",
       "      <td>3475</td>\n",
       "      <td>8181</td>\n",
       "      <td>7.229</td>\n",
       "      <td>8</td>\n",
       "      <td>20</td>\n",
       "      <td>3</td>\n",
       "      <td>0</td>\n",
       "      <td>11</td>\n",
       "      <td>20</td>\n",
       "      <td>27</td>\n",
       "      <td>4</td>\n",
       "    </tr>\n",
       "    <tr>\n",
       "      <th>10459</th>\n",
       "      <td>478</td>\n",
       "      <td>2179</td>\n",
       "      <td>914</td>\n",
       "      <td>1536</td>\n",
       "      <td>3475</td>\n",
       "      <td>8181</td>\n",
       "      <td>12.648</td>\n",
       "      <td>11</td>\n",
       "      <td>30</td>\n",
       "      <td>2</td>\n",
       "      <td>40</td>\n",
       "      <td>14</td>\n",
       "      <td>10</td>\n",
       "      <td>1</td>\n",
       "      <td>3</td>\n",
       "    </tr>\n",
       "    <tr>\n",
       "      <th>10460</th>\n",
       "      <td>1693</td>\n",
       "      <td>4345</td>\n",
       "      <td>4345</td>\n",
       "      <td>44</td>\n",
       "      <td>1317</td>\n",
       "      <td>8181</td>\n",
       "      <td>11.753</td>\n",
       "      <td>10</td>\n",
       "      <td>55</td>\n",
       "      <td>8</td>\n",
       "      <td>20</td>\n",
       "      <td>19</td>\n",
       "      <td>15</td>\n",
       "      <td>9</td>\n",
       "      <td>5</td>\n",
       "    </tr>\n",
       "  </tbody>\n",
       "</table>\n",
       "<p>10461 rows × 15 columns</p>\n",
       "</div>"
      ],
      "text/plain": [
       "       Airline  Source  Destination  Route  Total_Stops  Additional_Info  \\\n",
       "0         2043    2179          914   1536         3475             8181   \n",
       "1         1693    2860         2860      6         1317             8181   \n",
       "2         3700    4345         4345     41         1317             8181   \n",
       "3         2043    2860         2860      9         5625             8181   \n",
       "4         2043    2179          914      3         5625             8181   \n",
       "...        ...     ...          ...    ...          ...              ...   \n",
       "10456      319    2860         2860    724         3475             8181   \n",
       "10457     1693    2860         2860    724         3475             8181   \n",
       "10458     3700    2179         1265   1536         3475             8181   \n",
       "10459      478    2179          914   1536         3475             8181   \n",
       "10460     1693    4345         4345     44         1317             8181   \n",
       "\n",
       "        Price  Dep_Time_Hour  Dep_Time_Min  Dur_Hours  Dur_Minis  \\\n",
       "0       3.897             22            20          2         50   \n",
       "1       7.662              5            50          7         25   \n",
       "2      13.882              9            25         19          0   \n",
       "3       6.218             18             5          5         25   \n",
       "4      13.302             16            50          4         45   \n",
       "...       ...            ...           ...        ...        ...   \n",
       "10456   4.107             19            55          2         30   \n",
       "10457   4.145             20            45          2         35   \n",
       "10458   7.229              8            20          3          0   \n",
       "10459  12.648             11            30          2         40   \n",
       "10460  11.753             10            55          8         20   \n",
       "\n",
       "       Arr_Time_Hour  Arr_Time_Min  DOJ_Day  DOJ_Month  \n",
       "0                  1            10       24          3  \n",
       "1                 13            15        1          5  \n",
       "2                  4            25        9          6  \n",
       "3                 23            30       12          5  \n",
       "4                 21            35        1          3  \n",
       "...              ...           ...      ...        ...  \n",
       "10456             22            25        9          4  \n",
       "10457             23            20       27          4  \n",
       "10458             11            20       27          4  \n",
       "10459             14            10        1          3  \n",
       "10460             19            15        9          5  \n",
       "\n",
       "[10461 rows x 15 columns]"
      ]
     },
     "execution_count": 47,
     "metadata": {},
     "output_type": "execute_result"
    }
   ],
   "source": [
    "df"
   ]
  },
  {
   "cell_type": "code",
   "execution_count": 48,
   "id": "6a3b7cd8",
   "metadata": {},
   "outputs": [
    {
     "data": {
      "text/plain": [
       "(10461, 15)"
      ]
     },
     "execution_count": 48,
     "metadata": {},
     "output_type": "execute_result"
    }
   ],
   "source": [
    "df.shape"
   ]
  },
  {
   "cell_type": "markdown",
   "id": "76fba144",
   "metadata": {},
   "source": [
    "## Model Building"
   ]
  },
  {
   "cell_type": "code",
   "execution_count": 49,
   "id": "09424e02",
   "metadata": {},
   "outputs": [
    {
     "data": {
      "image/png": "[encoded data removed]",
      "text/plain": [
       "<Figure size 1080x1080 with 1 Axes>"
      ]
     },
     "metadata": {},
     "output_type": "display_data"
    }
   ],
   "source": [
    "from random import sample\n",
    "\n",
    "plt.figure(figsize=(15,15))\n",
    "colors = sample([k for k,v in pltc.cnames.items()], len(df.drop('Price',axis=1).columns))\n",
    "\n",
    "ax = np.round(df.drop('Price',axis=1).corrwith(df['Price']), 4).plot(kind='barh', color = colors)\n",
    "\n",
    "for i in ax.containers:\n",
    "    ax.bar_label(i)\n",
    "plt.axvline(x=0)\n",
    "plt.ylabel('Correlation Value')\n",
    "plt.title('Correlation of Price')\n",
    "plt.show()"
   ]
  },
  {
   "cell_type": "markdown",
   "id": "099c5c60",
   "metadata": {},
   "source": [
    "There are many features which do not provide much affect to the value of Price. It is for the best to drop such columns for the sake a time and computational speed. Taking only those values with correlation of greater than 0.2 or less than -0.2 in the training set."
   ]
  },
  {
   "cell_type": "code",
   "execution_count": 50,
   "id": "718d0e48",
   "metadata": {},
   "outputs": [
    {
     "data": {
      "text/plain": [
       "<AxesSubplot:>"
      ]
     },
     "execution_count": 50,
     "metadata": {},
     "output_type": "execute_result"
    },
    {
     "data": {
      "image/png": "[encoded data removed]",
      "text/plain": [
       "<Figure size 1080x1080 with 2 Axes>"
      ]
     },
     "metadata": {},
     "output_type": "display_data"
    }
   ],
   "source": [
    "plt.figure(figsize = (15,15))\n",
    "sns.heatmap(df.corr(), annot = True, fmt = '.2%')"
   ]
  },
  {
   "cell_type": "code",
   "execution_count": 51,
   "id": "7a8bfed2",
   "metadata": {},
   "outputs": [],
   "source": [
    "x_all_c = df.drop('Price', axis=1)\n",
    "y = df.loc[:,['Price']]"
   ]
  },
  {
   "cell_type": "code",
   "execution_count": 52,
   "id": "5c2f1243",
   "metadata": {},
   "outputs": [],
   "source": [
    "from sklearn.linear_model import LinearRegression\n",
    "from sklearn.neighbors import KNeighborsRegressor\n",
    "from sklearn.svm import SVR\n",
    "from sklearn.tree import DecisionTreeRegressor\n",
    "from sklearn.ensemble import RandomForestRegressor,GradientBoostingRegressor,AdaBoostRegressor\n",
    "from sklearn.experimental import enable_hist_gradient_boosting,enable_iterative_imputer,enable_halving_search_cv\n",
    "from sklearn.ensemble import ExtraTreesRegressor,HistGradientBoostingRegressor\n",
    "from sklearn.metrics import r2_score, mean_absolute_error, mean_squared_error\n",
    "from sklearn.model_selection import train_test_split, cross_val_score, GridSearchCV\n",
    "from sklearn.preprocessing import StandardScaler, scale\n",
    "\n",
    "import xgboost\n",
    "import lightgbm as lgbm"
   ]
  },
  {
   "cell_type": "code",
   "execution_count": 53,
   "id": "f30d87cb",
   "metadata": {},
   "outputs": [],
   "source": [
    "model_lr = LinearRegression()\n",
    "model_knn = KNeighborsRegressor()\n",
    "\n",
    "model_svr = SVR()\n",
    "model_dt = DecisionTreeRegressor()\n",
    "\n",
    "model_rf = RandomForestRegressor()\n",
    "model_gbr = GradientBoostingRegressor()\n",
    "\n",
    "model_xgb = xgboost.XGBRegressor()\n",
    "model_xgbrf = xgboost.XGBRFRegressor()\n",
    "\n",
    "model_abr = AdaBoostRegressor()\n",
    "model_etr = ExtraTreesRegressor()\n",
    "\n",
    "model_hgr = HistGradientBoostingRegressor()\n",
    "model_lgb = lgbm.LGBMRegressor()"
   ]
  },
  {
   "cell_type": "code",
   "execution_count": 54,
   "id": "40871807",
   "metadata": {
    "scrolled": false
   },
   "outputs": [],
   "source": [
    "l_model = [model_lr, model_knn, model_svr, model_dt, model_rf, model_gbr, model_xgbrf, model_xgb, model_abr, model_etr, model_hgr, model_lgb]\n",
    "l_acc = []\n",
    "l_std = []\n",
    "l_cv = []\n",
    "\n",
    "for j in l_model:\n",
    "    l_acc.append(cross_val_score(j, x_all_c,y).mean())\n",
    "    l_std.append(cross_val_score(j, x_all_c,y).std())\n",
    "    l_cv.append(cross_val_score(j, x_all_c,y).std()/cross_val_score(j, x_all_c,y).mean())"
   ]
  },
  {
   "cell_type": "code",
   "execution_count": 55,
   "id": "e645252b",
   "metadata": {},
   "outputs": [],
   "source": [
    "l_names = ['LinearRegression()','KNeighborsRegressor()','SVR()','DecisionTreeRegressor()','RandomForestRegressor()',\n",
    "          'GradientBoostingRegressor()','XGBRFRegressor()','XGBRegressor()','AdaBoostRegressor()','ExtraTreesRegressor()',\n",
    "          'HistGradientBoostingRegressor()','LGBMRegressor()']"
   ]
  },
  {
   "cell_type": "code",
   "execution_count": 56,
   "id": "9597cbb8",
   "metadata": {
    "scrolled": false
   },
   "outputs": [
    {
     "data": {
      "text/html": [
       "<div>\n",
       "<style scoped>\n",
       "    .dataframe tbody tr th:only-of-type {\n",
       "        vertical-align: middle;\n",
       "    }\n",
       "\n",
       "    .dataframe tbody tr th {\n",
       "        vertical-align: top;\n",
       "    }\n",
       "\n",
       "    .dataframe thead th {\n",
       "        text-align: right;\n",
       "    }\n",
       "</style>\n",
       "<table border=\"1\" class=\"dataframe\">\n",
       "  <thead>\n",
       "    <tr style=\"text-align: right;\">\n",
       "      <th></th>\n",
       "      <th>Accuracy</th>\n",
       "      <th>Std_Deviation</th>\n",
       "      <th>COV</th>\n",
       "    </tr>\n",
       "  </thead>\n",
       "  <tbody>\n",
       "    <tr>\n",
       "      <th>LinearRegression()</th>\n",
       "      <td>0.483451</td>\n",
       "      <td>0.020123</td>\n",
       "      <td>0.041624</td>\n",
       "    </tr>\n",
       "    <tr>\n",
       "      <th>KNeighborsRegressor()</th>\n",
       "      <td>0.798855</td>\n",
       "      <td>0.013103</td>\n",
       "      <td>0.016402</td>\n",
       "    </tr>\n",
       "    <tr>\n",
       "      <th>SVR()</th>\n",
       "      <td>0.589284</td>\n",
       "      <td>0.019664</td>\n",
       "      <td>0.033369</td>\n",
       "    </tr>\n",
       "    <tr>\n",
       "      <th>DecisionTreeRegressor()</th>\n",
       "      <td>0.858054</td>\n",
       "      <td>0.015666</td>\n",
       "      <td>0.016515</td>\n",
       "    </tr>\n",
       "    <tr>\n",
       "      <th>RandomForestRegressor()</th>\n",
       "      <td>0.912967</td>\n",
       "      <td>0.005250</td>\n",
       "      <td>0.005512</td>\n",
       "    </tr>\n",
       "    <tr>\n",
       "      <th>GradientBoostingRegressor()</th>\n",
       "      <td>0.829353</td>\n",
       "      <td>0.010593</td>\n",
       "      <td>0.012797</td>\n",
       "    </tr>\n",
       "    <tr>\n",
       "      <th>XGBRFRegressor()</th>\n",
       "      <td>0.816978</td>\n",
       "      <td>0.010703</td>\n",
       "      <td>0.013101</td>\n",
       "    </tr>\n",
       "    <tr>\n",
       "      <th>XGBRegressor()</th>\n",
       "      <td>0.912380</td>\n",
       "      <td>0.011982</td>\n",
       "      <td>0.013132</td>\n",
       "    </tr>\n",
       "    <tr>\n",
       "      <th>AdaBoostRegressor()</th>\n",
       "      <td>0.622557</td>\n",
       "      <td>0.018285</td>\n",
       "      <td>0.034156</td>\n",
       "    </tr>\n",
       "    <tr>\n",
       "      <th>ExtraTreesRegressor()</th>\n",
       "      <td>0.912035</td>\n",
       "      <td>0.005617</td>\n",
       "      <td>0.006472</td>\n",
       "    </tr>\n",
       "    <tr>\n",
       "      <th>HistGradientBoostingRegressor()</th>\n",
       "      <td>0.899368</td>\n",
       "      <td>0.009979</td>\n",
       "      <td>0.011095</td>\n",
       "    </tr>\n",
       "    <tr>\n",
       "      <th>LGBMRegressor()</th>\n",
       "      <td>0.899545</td>\n",
       "      <td>0.009645</td>\n",
       "      <td>0.010722</td>\n",
       "    </tr>\n",
       "  </tbody>\n",
       "</table>\n",
       "</div>"
      ],
      "text/plain": [
       "                                 Accuracy  Std_Deviation       COV\n",
       "LinearRegression()               0.483451       0.020123  0.041624\n",
       "KNeighborsRegressor()            0.798855       0.013103  0.016402\n",
       "SVR()                            0.589284       0.019664  0.033369\n",
       "DecisionTreeRegressor()          0.858054       0.015666  0.016515\n",
       "RandomForestRegressor()          0.912967       0.005250  0.005512\n",
       "GradientBoostingRegressor()      0.829353       0.010593  0.012797\n",
       "XGBRFRegressor()                 0.816978       0.010703  0.013101\n",
       "XGBRegressor()                   0.912380       0.011982  0.013132\n",
       "AdaBoostRegressor()              0.622557       0.018285  0.034156\n",
       "ExtraTreesRegressor()            0.912035       0.005617  0.006472\n",
       "HistGradientBoostingRegressor()  0.899368       0.009979  0.011095\n",
       "LGBMRegressor()                  0.899545       0.009645  0.010722"
      ]
     },
     "execution_count": 56,
     "metadata": {},
     "output_type": "execute_result"
    }
   ],
   "source": [
    "df_i = pd.DataFrame(data=[l_acc, l_std, l_cv]).T\n",
    "df_i.columns = ['Accuracy','Std_Deviation','COV']\n",
    "df_i.index = l_names\n",
    "df_acc = df_i\n",
    "df_acc"
   ]
  },
  {
   "cell_type": "markdown",
   "id": "ffb9b42b",
   "metadata": {},
   "source": [
    "## Model Evaluation Results"
   ]
  },
  {
   "cell_type": "markdown",
   "id": "bd078450",
   "metadata": {},
   "source": [
    "### In terms of accuracy"
   ]
  },
  {
   "cell_type": "code",
   "execution_count": 67,
   "id": "cb6b2902",
   "metadata": {
    "scrolled": false
   },
   "outputs": [
    {
     "name": "stdout",
     "output_type": "stream",
     "text": [
      "Best model:\n",
      "Index: 4.\n",
      "Model: RandomForestRegressor().\n",
      "Accuracy: 0.9129668759033105\n",
      "Coefficient of Variation: 0.005511768451833675\n"
     ]
    }
   ],
   "source": [
    "print('Best model:')\n",
    "print(f'Index: {np.where(df_acc.Accuracy == max(df_acc.Accuracy))[0][0]}.')\n",
    "print(f'Model: {l_model[np.where(df_acc.Accuracy == max(df_acc.Accuracy))[0][0]]}.')\n",
    "print(f'Accuracy: {df_acc.Accuracy[np.where(df_acc.Accuracy == max(df_acc.Accuracy))[0][0]]}')\n",
    "print(f'Coefficient of Variation: {df_acc.COV[np.where(df_acc.Accuracy == max(df_acc.Accuracy))[0][0]]}')"
   ]
  },
  {
   "cell_type": "code",
   "execution_count": 68,
   "id": "fbcebbb9",
   "metadata": {
    "scrolled": true
   },
   "outputs": [
    {
     "name": "stdout",
     "output_type": "stream",
     "text": [
      "Worst model:\n",
      "Index: 0.\n",
      "Model: LinearRegression().\n",
      "Accuracy: 0.4834514684382869\n",
      "Coefficient of Variation: 0.0416242750011501\n"
     ]
    }
   ],
   "source": [
    "print('Worst model:')\n",
    "print(f'Index: {np.where(df_acc.Accuracy == min(df_acc.Accuracy))[0][0]}.')\n",
    "print(f'Model: {l_model[np.where(df_acc.Accuracy == min(df_acc.Accuracy))[0][0]]}.')\n",
    "print(f'Accuracy: {df_acc.Accuracy[np.where(df_acc.Accuracy == min(df_acc.Accuracy))[0][0]]}')\n",
    "print(f'Coefficient of Variation: {df_acc.COV[np.where(df_acc.Accuracy == min(df_acc.Accuracy))[0][0]]}')"
   ]
  },
  {
   "cell_type": "markdown",
   "id": "fe967593",
   "metadata": {},
   "source": [
    "### In terms of coefficient of variation"
   ]
  },
  {
   "cell_type": "code",
   "execution_count": 69,
   "id": "6fac2a41",
   "metadata": {
    "scrolled": true
   },
   "outputs": [
    {
     "name": "stdout",
     "output_type": "stream",
     "text": [
      "Best model: \n",
      "Index: 4.\n",
      "Model: RandomForestRegressor().\n",
      "Accuracy: 0.9129668759033105\n",
      "Coefficient of Variation: 0.005511768451833675\n"
     ]
    }
   ],
   "source": [
    "print('Best model: ')\n",
    "print(f'Index: {np.where(df_acc.COV == min(df_acc.COV))[0][0]}.')\n",
    "print(f'Model: {l_model[np.where(df_acc.COV == min(df_acc.COV))[0][0]]}.')\n",
    "print(f'Accuracy: {df_acc.Accuracy[np.where(df_acc.COV == min(df_acc.COV))[0][0]]}')\n",
    "print(f'Coefficient of Variation: {df_acc.COV[np.where(df_acc.COV == min(df_acc.COV))[0][0]]}')"
   ]
  },
  {
   "cell_type": "code",
   "execution_count": 77,
   "id": "8103009b",
   "metadata": {},
   "outputs": [
    {
     "name": "stdout",
     "output_type": "stream",
     "text": [
      "Worst model: \n",
      "Index: 0.\n",
      "Model: LinearRegression().\n",
      "Accuracy: 0.4834514684382869\n",
      "Coefficient of Variation: 0.0416242750011501\n"
     ]
    }
   ],
   "source": [
    "print('Worst model: ')\n",
    "print(f'Index: {np.where(df_acc.COV == max(df_acc.COV))[0][0]}.')\n",
    "print(f'Model: {l_model[np.where(df_acc.COV == max(df_acc.COV))[0][0]]}.')\n",
    "print(f'Accuracy: {df_acc.Accuracy[np.where(df_acc.COV == max(df_acc.COV))[0][0]]}')\n",
    "print(f'Coefficient of Variation: {df_acc.COV[np.where(df_acc.COV == max(df_acc.COV))[0][0]]}')"
   ]
  },
  {
   "cell_type": "markdown",
   "id": "0cd7d15a",
   "metadata": {},
   "source": [
    "#### The above shows that for the given dataset, LinearRegression( ) provides both lower accuracy and a larger amount of variability in it's overall output. On the other end, the model with best accuracy and the one with least coefficient of variation is RandomForestRegressor( )."
   ]
  },
  {
   "cell_type": "markdown",
   "id": "6106cddc",
   "metadata": {},
   "source": [
    "## Using RandomForestRegressor( )"
   ]
  },
  {
   "cell_type": "code",
   "execution_count": 71,
   "id": "814beb69",
   "metadata": {},
   "outputs": [
    {
     "name": "stdout",
     "output_type": "stream",
     "text": [
      "R2 score: 0.9031577825973652\n",
      "MAE: 0.6247959741380881\n",
      "MSE: 1.8338879362130724\n",
      "RMSE: 1.3542111859725101\n"
     ]
    }
   ],
   "source": [
    "x_all_c = df.drop('Price', axis=1)\n",
    "y = df.loc[:,['Price']]\n",
    "\n",
    "x_train_f, x_test_f, y_train_f, y_test_f = train_test_split(x_all_c, y, random_state=1)\n",
    "\n",
    "model_rf.fit(x_train_f, y_train_f)\n",
    "y_predict = model_rf.predict(x_test_f)\n",
    "\n",
    "print(f'R2 score: {r2_score(y_test_f, y_predict)}')\n",
    "print(f'MAE: {mean_absolute_error(y_test_f, y_predict)}')\n",
    "print(f'MSE: {mean_squared_error(y_test_f, y_predict)}')\n",
    "print(f'RMSE: {np.power(mean_squared_error(y_test_f, y_predict), 1/2)}')"
   ]
  },
  {
   "cell_type": "code",
   "execution_count": 72,
   "id": "17974bbe",
   "metadata": {},
   "outputs": [
    {
     "name": "stdout",
     "output_type": "stream",
     "text": [
      "R2 score: 0.9113200585729893\n",
      "MAE: 0.6031033515939759\n",
      "MSE: 1.5776179744651606\n",
      "RMSE: 1.2560326327230358\n"
     ]
    }
   ],
   "source": [
    "x_all_c = df.drop('Price', axis=1)\n",
    "y = df.loc[:,['Price']]\n",
    "\n",
    "x_train_f, x_test_f, y_train_f, y_test_f = train_test_split(x_all_c, y, random_state=10)\n",
    "\n",
    "model_rf.fit(x_train_f, y_train_f)\n",
    "y_predict = model_rf.predict(x_test_f)\n",
    "\n",
    "print(f'R2 score: {r2_score(y_test_f, y_predict)}')\n",
    "print(f'MAE: {mean_absolute_error(y_test_f, y_predict)}')\n",
    "print(f'MSE: {mean_squared_error(y_test_f, y_predict)}')\n",
    "print(f'RMSE: {np.power(mean_squared_error(y_test_f, y_predict), 1/2)}')"
   ]
  },
  {
   "cell_type": "code",
   "execution_count": 73,
   "id": "6fa538db",
   "metadata": {},
   "outputs": [
    {
     "name": "stdout",
     "output_type": "stream",
     "text": [
      "R2 score: 0.9061265819026859\n",
      "MAE: 0.6296937926314258\n",
      "MSE: 1.8834317819873987\n",
      "RMSE: 1.3723817916262948\n"
     ]
    }
   ],
   "source": [
    "x_all_c = df.drop('Price', axis=1)\n",
    "y = df.loc[:,['Price']]\n",
    "\n",
    "x_train_f, x_test_f, y_train_f, y_test_f = train_test_split(x_all_c, y, random_state=100)\n",
    "\n",
    "model_rf.fit(x_train_f, y_train_f)\n",
    "y_predict = model_rf.predict(x_test_f)\n",
    "\n",
    "print(f'R2 score: {r2_score(y_test_f, y_predict)}')\n",
    "print(f'MAE: {mean_absolute_error(y_test_f, y_predict)}')\n",
    "print(f'MSE: {mean_squared_error(y_test_f, y_predict)}')\n",
    "print(f'RMSE: {np.power(mean_squared_error(y_test_f, y_predict), 1/2)}')"
   ]
  },
  {
   "cell_type": "code",
   "execution_count": 74,
   "id": "d3215079",
   "metadata": {},
   "outputs": [
    {
     "name": "stdout",
     "output_type": "stream",
     "text": [
      "R2 score: 0.9284649688799254\n",
      "MAE: 0.6060495403924567\n",
      "MSE: 1.3279636470807026\n",
      "RMSE: 1.1523730503099692\n"
     ]
    }
   ],
   "source": [
    "x_all_c = df.drop('Price', axis=1)\n",
    "y = df.loc[:,['Price']]\n",
    "\n",
    "x_train_f, x_test_f, y_train_f, y_test_f = train_test_split(x_all_c, y, random_state=1000)\n",
    "\n",
    "model_rf.fit(x_train_f, y_train_f)\n",
    "y_predict = model_rf.predict(x_test_f)\n",
    "\n",
    "print(f'R2 score: {r2_score(y_test_f, y_predict)}')\n",
    "print(f'MAE: {mean_absolute_error(y_test_f, y_predict)}')\n",
    "print(f'MSE: {mean_squared_error(y_test_f, y_predict)}')\n",
    "print(f'RMSE: {np.power(mean_squared_error(y_test_f, y_predict), 1/2)}')"
   ]
  },
  {
   "cell_type": "code",
   "execution_count": 75,
   "id": "39fa48d7",
   "metadata": {},
   "outputs": [
    {
     "name": "stdout",
     "output_type": "stream",
     "text": [
      "R2 score: 0.9060095554615457\n",
      "MAE: 0.6248288421981946\n",
      "MSE: 1.79033778960986\n",
      "RMSE: 1.3380350479751493\n"
     ]
    }
   ],
   "source": [
    "x_all_c = df.drop('Price', axis=1)\n",
    "y = df.loc[:,['Price']]\n",
    "\n",
    "x_train_f, x_test_f, y_train_f, y_test_f = train_test_split(x_all_c, y, random_state=10000)\n",
    "\n",
    "model_rf.fit(x_train_f, y_train_f)\n",
    "y_predict = model_rf.predict(x_test_f)\n",
    "\n",
    "print(f'R2 score: {r2_score(y_test_f, y_predict)}')\n",
    "print(f'MAE: {mean_absolute_error(y_test_f, y_predict)}')\n",
    "print(f'MSE: {mean_squared_error(y_test_f, y_predict)}')\n",
    "print(f'RMSE: {np.power(mean_squared_error(y_test_f, y_predict), 1/2)}')"
   ]
  },
  {
   "cell_type": "code",
   "execution_count": 76,
   "id": "174eadea",
   "metadata": {},
   "outputs": [
    {
     "name": "stdout",
     "output_type": "stream",
     "text": [
      "R2 score: 0.9247577231268349\n",
      "MAE: 0.6093436475732369\n",
      "MSE: 1.4033780912633826\n",
      "RMSE: 1.1846426006451831\n"
     ]
    }
   ],
   "source": [
    "x_all_c = df.drop('Price', axis=1)\n",
    "y = df.loc[:,['Price']]\n",
    "\n",
    "x_train_f, x_test_f, y_train_f, y_test_f = train_test_split(x_all_c, y, random_state=100000)\n",
    "\n",
    "model_rf.fit(x_train_f, y_train_f)\n",
    "y_predict = model_rf.predict(x_test_f)\n",
    "\n",
    "print(f'R2 score: {r2_score(y_test_f, y_predict)}')\n",
    "print(f'MAE: {mean_absolute_error(y_test_f, y_predict)}')\n",
    "print(f'MSE: {mean_squared_error(y_test_f, y_predict)}')\n",
    "print(f'RMSE: {np.power(mean_squared_error(y_test_f, y_predict), 1/2)}')"
   ]
  },
  {
   "cell_type": "markdown",
   "id": "1c6e95b2",
   "metadata": {},
   "source": [
    "#### The above values show that there is no significant change in the value of metrics of regression with variation in Random State. Therefore the best model to describe the given dataset is RandomForestRegressor()."
   ]
  }
 ],
 "metadata": {
  "kernelspec": {
   "display_name": "Python 3 (ipykernel)",
   "language": "python",
   "name": "python3"
  },
  "language_info": {
   "codemirror_mode": {
    "name": "ipython",
    "version": 3
   },
   "file_extension": ".py",
   "mimetype": "text/x-python",
   "name": "python",
   "nbconvert_exporter": "python",
   "pygments_lexer": "ipython3",
   "version": "3.9.7"
  }
 },
 "nbformat": 4,
 "nbformat_minor": 5
}
